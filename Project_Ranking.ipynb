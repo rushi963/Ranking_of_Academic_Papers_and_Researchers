{
 "cells": [
  {
   "cell_type": "markdown",
   "metadata": {},
   "source": [
    "### DSF PROJECT - RANKING OF ACADEMIC PAPERS"
   ]
  },
  {
   "cell_type": "code",
   "execution_count": null,
   "metadata": {
    "collapsed": true
   },
   "outputs": [],
   "source": [
    "# Importing\n",
    "import pandas as pd\n",
    "import numpy as np\n",
    "import json\n",
    "from sklearn import preprocessing\n",
    "import seaborn as sns; sns.set()\n",
    "import matplotlib.pyplot as plt\n",
    "from nltk import word_tokenize\n",
    "from collections import Counter\n",
    "import random"
   ]
  },
  {
   "cell_type": "code",
   "execution_count": 55,
   "metadata": {
    "collapsed": true
   },
   "outputs": [],
   "source": [
    "# Loading data from json\n",
    "f1 = open('dblp-ref/dblp-ref-0.json', 'r')\n",
    "f2 = open('dblp-ref/dblp-ref-1.json', 'rb')\n",
    "f3 = open('dblp-ref/dblp-ref-2.json', 'rb')\n",
    "f4 = open('dblp-ref/dblp-ref-3.json', 'rb')"
   ]
  },
  {
   "cell_type": "markdown",
   "metadata": {},
   "source": [
    "### Loading Data"
   ]
  },
  {
   "cell_type": "code",
   "execution_count": 56,
   "metadata": {
    "collapsed": true
   },
   "outputs": [],
   "source": [
    "# Reading file\n",
    "l = f1.readlines()\n",
    "l += f2.readlines()\n",
    "l += f3.readlines()\n",
    "l += f4.readlines()\n",
    "swat = []\n",
    "for line in l:\n",
    "    swat.append(json.loads(line.strip().replace(\"\\n\",\"\")))"
   ]
  },
  {
   "cell_type": "code",
   "execution_count": 57,
   "metadata": {
    "collapsed": true
   },
   "outputs": [],
   "source": [
    "df = pd.DataFrame(swat)"
   ]
  },
  {
   "cell_type": "code",
   "execution_count": 58,
   "metadata": {},
   "outputs": [
    {
     "data": {
      "text/plain": [
       "abstract      246354\n",
       "authors            0\n",
       "id                 0\n",
       "n_citation         0\n",
       "references    138520\n",
       "title              0\n",
       "venue              0\n",
       "year               0\n",
       "dtype: int64"
      ]
     },
     "execution_count": 58,
     "metadata": {},
     "output_type": "execute_result"
    }
   ],
   "source": [
    "df.isnull().sum()"
   ]
  },
  {
   "cell_type": "code",
   "execution_count": 59,
   "metadata": {},
   "outputs": [
    {
     "data": {
      "text/html": [
       "<div>\n",
       "<style>\n",
       "    .dataframe thead tr:only-child th {\n",
       "        text-align: right;\n",
       "    }\n",
       "\n",
       "    .dataframe thead th {\n",
       "        text-align: left;\n",
       "    }\n",
       "\n",
       "    .dataframe tbody tr th {\n",
       "        vertical-align: top;\n",
       "    }\n",
       "</style>\n",
       "<table border=\"1\" class=\"dataframe\">\n",
       "  <thead>\n",
       "    <tr style=\"text-align: right;\">\n",
       "      <th></th>\n",
       "      <th>abstract</th>\n",
       "      <th>authors</th>\n",
       "      <th>id</th>\n",
       "      <th>n_citation</th>\n",
       "      <th>references</th>\n",
       "      <th>title</th>\n",
       "      <th>venue</th>\n",
       "      <th>year</th>\n",
       "    </tr>\n",
       "  </thead>\n",
       "  <tbody>\n",
       "    <tr>\n",
       "      <th>0</th>\n",
       "      <td>The purpose of this study is to develop a lear...</td>\n",
       "      <td>[Makoto Satoh, Ryo Muramatsu, Mizue Kayama, Ka...</td>\n",
       "      <td>00127ee2-cb05-48ce-bc49-9de556b93346</td>\n",
       "      <td>0</td>\n",
       "      <td>[51c7e02e-f5ed-431a-8cf5-f761f266d4be, 69b625b...</td>\n",
       "      <td>Preliminary Design of a Network Protocol Learn...</td>\n",
       "      <td>international conference on human-computer int...</td>\n",
       "      <td>2013</td>\n",
       "    </tr>\n",
       "    <tr>\n",
       "      <th>1</th>\n",
       "      <td>This paper describes the design and implementa...</td>\n",
       "      <td>[Gareth Beale, Graeme Earl]</td>\n",
       "      <td>001c58d3-26ad-46b3-ab3a-c1e557d16821</td>\n",
       "      <td>50</td>\n",
       "      <td>[10482dd3-4642-4193-842f-85f3b70fcf65, 3133714...</td>\n",
       "      <td>A methodology for the physically accurate visu...</td>\n",
       "      <td>visual analytics science and technology</td>\n",
       "      <td>2011</td>\n",
       "    </tr>\n",
       "    <tr>\n",
       "      <th>2</th>\n",
       "      <td>This article applied GARCH model instead AR or...</td>\n",
       "      <td>[Altaf Hossain, Faisal Zaman, Mohammed Nasser,...</td>\n",
       "      <td>001c8744-73c4-4b04-9364-22d31a10dbf1</td>\n",
       "      <td>50</td>\n",
       "      <td>[2d84c0f2-e656-4ce7-b018-90eda1c132fe, a083a1b...</td>\n",
       "      <td>Comparison of GARCH, Neural Network and Suppor...</td>\n",
       "      <td>pattern recognition and machine intelligence</td>\n",
       "      <td>2009</td>\n",
       "    </tr>\n",
       "    <tr>\n",
       "      <th>3</th>\n",
       "      <td>NaN</td>\n",
       "      <td>[Jea-Bum Park, Byungmok Kim, Jian Shen, Sun-Yo...</td>\n",
       "      <td>00338203-9eb3-40c5-9f31-cbac73a519ec</td>\n",
       "      <td>0</td>\n",
       "      <td>[8c78e4b0-632b-4293-b491-85b1976675e6, 9cdc54f...</td>\n",
       "      <td>Development of Remote Monitoring and Control D...</td>\n",
       "      <td></td>\n",
       "      <td>2011</td>\n",
       "    </tr>\n",
       "    <tr>\n",
       "      <th>4</th>\n",
       "      <td>NaN</td>\n",
       "      <td>[Giovanna Guerrini, Isabella Merlo]</td>\n",
       "      <td>0040b022-1472-4f70-a753-74832df65266</td>\n",
       "      <td>2</td>\n",
       "      <td>NaN</td>\n",
       "      <td>Reasonig about Set-Oriented Methods in Object ...</td>\n",
       "      <td></td>\n",
       "      <td>1998</td>\n",
       "    </tr>\n",
       "    <tr>\n",
       "      <th>5</th>\n",
       "      <td>NaN</td>\n",
       "      <td>[Rafael Álvarez, Leandro Tortosa, José-Francis...</td>\n",
       "      <td>005ce28f-ed77-4e97-afdc-a296137186a1</td>\n",
       "      <td>0</td>\n",
       "      <td>NaN</td>\n",
       "      <td>COMPARING GNG3D AND QUADRIC ERROR METRICS METH...</td>\n",
       "      <td>international conference on computer graphics ...</td>\n",
       "      <td>2009</td>\n",
       "    </tr>\n",
       "    <tr>\n",
       "      <th>6</th>\n",
       "      <td>NaN</td>\n",
       "      <td>[Jovan Dj. Golic, Guglielmo Morgari]</td>\n",
       "      <td>00638a94-23bf-4fa6-b5ce-40d799c65da7</td>\n",
       "      <td>2</td>\n",
       "      <td>NaN</td>\n",
       "      <td>Vectorial fast correlation attacks.</td>\n",
       "      <td></td>\n",
       "      <td>2004</td>\n",
       "    </tr>\n",
       "    <tr>\n",
       "      <th>7</th>\n",
       "      <td>NaN</td>\n",
       "      <td>[Guzin Ulutas, Mustafa Ulutas, Vasif V. Nabiyev]</td>\n",
       "      <td>00701b05-684f-45f9-b281-425abfec482c</td>\n",
       "      <td>0</td>\n",
       "      <td>[5626736c-e434-4e2d-8405-54940fab88ab, 8e87e87...</td>\n",
       "      <td>Improved Secret Image Sharing Method By Encodi...</td>\n",
       "      <td>international symposium on computer and inform...</td>\n",
       "      <td>2011</td>\n",
       "    </tr>\n",
       "    <tr>\n",
       "      <th>8</th>\n",
       "      <td>NaN</td>\n",
       "      <td>[Pranay Chaudhuri, Hussein Thompson]</td>\n",
       "      <td>00745041-3636-4d18-bbec-783c4278c40d</td>\n",
       "      <td>0</td>\n",
       "      <td>NaN</td>\n",
       "      <td>A Self-Stabilizing Algorithm for Finding the C...</td>\n",
       "      <td>parallel and distributed processing techniques...</td>\n",
       "      <td>2003</td>\n",
       "    </tr>\n",
       "    <tr>\n",
       "      <th>9</th>\n",
       "      <td>NaN</td>\n",
       "      <td>[Dominik Szajerman, Adam Jurczyński]</td>\n",
       "      <td>00964544-cbe2-4da9-bb5a-03333160eb34</td>\n",
       "      <td>0</td>\n",
       "      <td>[3fcd7cdc-20e6-4ea3-a41c-db126fcc5cfe, bf3a11c...</td>\n",
       "      <td>Fur Visualisation for Computer Game Engines an...</td>\n",
       "      <td>international conference on computer vision an...</td>\n",
       "      <td>2014</td>\n",
       "    </tr>\n",
       "  </tbody>\n",
       "</table>\n",
       "</div>"
      ],
      "text/plain": [
       "                                            abstract  \\\n",
       "0  The purpose of this study is to develop a lear...   \n",
       "1  This paper describes the design and implementa...   \n",
       "2  This article applied GARCH model instead AR or...   \n",
       "3                                                NaN   \n",
       "4                                                NaN   \n",
       "5                                                NaN   \n",
       "6                                                NaN   \n",
       "7                                                NaN   \n",
       "8                                                NaN   \n",
       "9                                                NaN   \n",
       "\n",
       "                                             authors  \\\n",
       "0  [Makoto Satoh, Ryo Muramatsu, Mizue Kayama, Ka...   \n",
       "1                        [Gareth Beale, Graeme Earl]   \n",
       "2  [Altaf Hossain, Faisal Zaman, Mohammed Nasser,...   \n",
       "3  [Jea-Bum Park, Byungmok Kim, Jian Shen, Sun-Yo...   \n",
       "4                [Giovanna Guerrini, Isabella Merlo]   \n",
       "5  [Rafael Álvarez, Leandro Tortosa, José-Francis...   \n",
       "6               [Jovan Dj. Golic, Guglielmo Morgari]   \n",
       "7   [Guzin Ulutas, Mustafa Ulutas, Vasif V. Nabiyev]   \n",
       "8               [Pranay Chaudhuri, Hussein Thompson]   \n",
       "9               [Dominik Szajerman, Adam Jurczyński]   \n",
       "\n",
       "                                     id  n_citation  \\\n",
       "0  00127ee2-cb05-48ce-bc49-9de556b93346           0   \n",
       "1  001c58d3-26ad-46b3-ab3a-c1e557d16821          50   \n",
       "2  001c8744-73c4-4b04-9364-22d31a10dbf1          50   \n",
       "3  00338203-9eb3-40c5-9f31-cbac73a519ec           0   \n",
       "4  0040b022-1472-4f70-a753-74832df65266           2   \n",
       "5  005ce28f-ed77-4e97-afdc-a296137186a1           0   \n",
       "6  00638a94-23bf-4fa6-b5ce-40d799c65da7           2   \n",
       "7  00701b05-684f-45f9-b281-425abfec482c           0   \n",
       "8  00745041-3636-4d18-bbec-783c4278c40d           0   \n",
       "9  00964544-cbe2-4da9-bb5a-03333160eb34           0   \n",
       "\n",
       "                                          references  \\\n",
       "0  [51c7e02e-f5ed-431a-8cf5-f761f266d4be, 69b625b...   \n",
       "1  [10482dd3-4642-4193-842f-85f3b70fcf65, 3133714...   \n",
       "2  [2d84c0f2-e656-4ce7-b018-90eda1c132fe, a083a1b...   \n",
       "3  [8c78e4b0-632b-4293-b491-85b1976675e6, 9cdc54f...   \n",
       "4                                                NaN   \n",
       "5                                                NaN   \n",
       "6                                                NaN   \n",
       "7  [5626736c-e434-4e2d-8405-54940fab88ab, 8e87e87...   \n",
       "8                                                NaN   \n",
       "9  [3fcd7cdc-20e6-4ea3-a41c-db126fcc5cfe, bf3a11c...   \n",
       "\n",
       "                                               title  \\\n",
       "0  Preliminary Design of a Network Protocol Learn...   \n",
       "1  A methodology for the physically accurate visu...   \n",
       "2  Comparison of GARCH, Neural Network and Suppor...   \n",
       "3  Development of Remote Monitoring and Control D...   \n",
       "4  Reasonig about Set-Oriented Methods in Object ...   \n",
       "5  COMPARING GNG3D AND QUADRIC ERROR METRICS METH...   \n",
       "6                Vectorial fast correlation attacks.   \n",
       "7  Improved Secret Image Sharing Method By Encodi...   \n",
       "8  A Self-Stabilizing Algorithm for Finding the C...   \n",
       "9  Fur Visualisation for Computer Game Engines an...   \n",
       "\n",
       "                                               venue  year  \n",
       "0  international conference on human-computer int...  2013  \n",
       "1            visual analytics science and technology  2011  \n",
       "2       pattern recognition and machine intelligence  2009  \n",
       "3                                                     2011  \n",
       "4                                                     1998  \n",
       "5  international conference on computer graphics ...  2009  \n",
       "6                                                     2004  \n",
       "7  international symposium on computer and inform...  2011  \n",
       "8  parallel and distributed processing techniques...  2003  \n",
       "9  international conference on computer vision an...  2014  "
      ]
     },
     "execution_count": 59,
     "metadata": {},
     "output_type": "execute_result"
    }
   ],
   "source": [
    "df.head(10)"
   ]
  },
  {
   "cell_type": "code",
   "execution_count": 60,
   "metadata": {},
   "outputs": [
    {
     "data": {
      "text/plain": [
       "count    1000000.000000\n",
       "mean          30.875730\n",
       "std          137.942473\n",
       "min            0.000000\n",
       "25%            1.000000\n",
       "50%            9.000000\n",
       "75%           50.000000\n",
       "max        73362.000000\n",
       "Name: n_citation, dtype: float64"
      ]
     },
     "execution_count": 60,
     "metadata": {},
     "output_type": "execute_result"
    }
   ],
   "source": [
    "df.n_citation.describe()"
   ]
  },
  {
   "cell_type": "code",
   "execution_count": 61,
   "metadata": {
    "collapsed": true
   },
   "outputs": [],
   "source": [
    "df1 = df.dropna()\n",
    "df1 = df1.reset_index(drop=True)"
   ]
  },
  {
   "cell_type": "code",
   "execution_count": 62,
   "metadata": {
    "collapsed": true
   },
   "outputs": [],
   "source": [
    "def unique(s):\n",
    "    seen = set()\n",
    "    return [x for x in s if not (x in seen or seen.add(x))]"
   ]
  },
  {
   "cell_type": "code",
   "execution_count": 63,
   "metadata": {},
   "outputs": [
    {
     "name": "stdout",
     "output_type": "stream",
     "text": [
      "709207\n",
      "0 2\n",
      "100000 956378\n",
      "200000 1775530\n",
      "300000 2594923\n",
      "400000 3501980\n",
      "500000 4440528\n",
      "600000 5367473\n",
      "700000 6293852\n",
      "6379807\n"
     ]
    }
   ],
   "source": [
    "# Storing all paper ids in a list\n",
    "ndf1 = df1\n",
    "all_labels = list(ndf1.id[:])\n",
    "print(len(all_labels))\n",
    "all_refs = []\n",
    "for idx, row in ndf1.iterrows():\n",
    "    all_refs += list(row[\"references\"])\n",
    "    if idx%100000 == 0:\n",
    "        print(idx, len(all_refs))\n",
    "print(len(all_refs))\n",
    "all_labels = list(unique(list(unique(all_labels))+list(unique(all_refs))))\n",
    "dic1 = {}\n",
    "count = 0\n",
    "for i in all_labels:\n",
    "    dic1[i] = count\n",
    "    count = count + 1"
   ]
  },
  {
   "cell_type": "code",
   "execution_count": 64,
   "metadata": {},
   "outputs": [
    {
     "name": "stdout",
     "output_type": "stream",
     "text": [
      "1610077\n"
     ]
    }
   ],
   "source": [
    "print(count)"
   ]
  },
  {
   "cell_type": "code",
   "execution_count": 65,
   "metadata": {},
   "outputs": [
    {
     "data": {
      "text/html": [
       "<div>\n",
       "<style>\n",
       "    .dataframe thead tr:only-child th {\n",
       "        text-align: right;\n",
       "    }\n",
       "\n",
       "    .dataframe thead th {\n",
       "        text-align: left;\n",
       "    }\n",
       "\n",
       "    .dataframe tbody tr th {\n",
       "        vertical-align: top;\n",
       "    }\n",
       "</style>\n",
       "<table border=\"1\" class=\"dataframe\">\n",
       "  <thead>\n",
       "    <tr style=\"text-align: right;\">\n",
       "      <th></th>\n",
       "      <th>abstract</th>\n",
       "      <th>authors</th>\n",
       "      <th>id</th>\n",
       "      <th>n_citation</th>\n",
       "      <th>references</th>\n",
       "      <th>title</th>\n",
       "      <th>venue</th>\n",
       "      <th>year</th>\n",
       "    </tr>\n",
       "  </thead>\n",
       "  <tbody>\n",
       "    <tr>\n",
       "      <th>0</th>\n",
       "      <td>The purpose of this study is to develop a lear...</td>\n",
       "      <td>[Makoto Satoh, Ryo Muramatsu, Mizue Kayama, Ka...</td>\n",
       "      <td>00127ee2-cb05-48ce-bc49-9de556b93346</td>\n",
       "      <td>0</td>\n",
       "      <td>[51c7e02e-f5ed-431a-8cf5-f761f266d4be, 69b625b...</td>\n",
       "      <td>Preliminary Design of a Network Protocol Learn...</td>\n",
       "      <td>international conference on human-computer int...</td>\n",
       "      <td>2013</td>\n",
       "    </tr>\n",
       "    <tr>\n",
       "      <th>1</th>\n",
       "      <td>This paper describes the design and implementa...</td>\n",
       "      <td>[Gareth Beale, Graeme Earl]</td>\n",
       "      <td>001c58d3-26ad-46b3-ab3a-c1e557d16821</td>\n",
       "      <td>50</td>\n",
       "      <td>[10482dd3-4642-4193-842f-85f3b70fcf65, 3133714...</td>\n",
       "      <td>A methodology for the physically accurate visu...</td>\n",
       "      <td>visual analytics science and technology</td>\n",
       "      <td>2011</td>\n",
       "    </tr>\n",
       "    <tr>\n",
       "      <th>2</th>\n",
       "      <td>This article applied GARCH model instead AR or...</td>\n",
       "      <td>[Altaf Hossain, Faisal Zaman, Mohammed Nasser,...</td>\n",
       "      <td>001c8744-73c4-4b04-9364-22d31a10dbf1</td>\n",
       "      <td>50</td>\n",
       "      <td>[2d84c0f2-e656-4ce7-b018-90eda1c132fe, a083a1b...</td>\n",
       "      <td>Comparison of GARCH, Neural Network and Suppor...</td>\n",
       "      <td>pattern recognition and machine intelligence</td>\n",
       "      <td>2009</td>\n",
       "    </tr>\n",
       "    <tr>\n",
       "      <th>3</th>\n",
       "      <td>Recent achievements in Natural Language Proces...</td>\n",
       "      <td>[Ankita Brahmachari, Priya Singh, Avdhesh Garg...</td>\n",
       "      <td>00a119c4-d367-4607-b3c8-b237f2971bff</td>\n",
       "      <td>0</td>\n",
       "      <td>[84d47128-58d0-4187-aa44-389fde7d5c83, e0dce69...</td>\n",
       "      <td>Identifying Psychological Theme Words from Emo...</td>\n",
       "      <td></td>\n",
       "      <td>2013</td>\n",
       "    </tr>\n",
       "    <tr>\n",
       "      <th>4</th>\n",
       "      <td>Recently, Bridges and Reich introduced the con...</td>\n",
       "      <td>[Alvaro L. Islas, Constance M. Schober]</td>\n",
       "      <td>00bcf2d5-1592-46b0-81fd-933f90b5ecca</td>\n",
       "      <td>50</td>\n",
       "      <td>[]</td>\n",
       "      <td>Multisymplectic Spectral Methods for the Gross...</td>\n",
       "      <td>international conference on conceptual structures</td>\n",
       "      <td>2002</td>\n",
       "    </tr>\n",
       "  </tbody>\n",
       "</table>\n",
       "</div>"
      ],
      "text/plain": [
       "                                            abstract  \\\n",
       "0  The purpose of this study is to develop a lear...   \n",
       "1  This paper describes the design and implementa...   \n",
       "2  This article applied GARCH model instead AR or...   \n",
       "3  Recent achievements in Natural Language Proces...   \n",
       "4  Recently, Bridges and Reich introduced the con...   \n",
       "\n",
       "                                             authors  \\\n",
       "0  [Makoto Satoh, Ryo Muramatsu, Mizue Kayama, Ka...   \n",
       "1                        [Gareth Beale, Graeme Earl]   \n",
       "2  [Altaf Hossain, Faisal Zaman, Mohammed Nasser,...   \n",
       "3  [Ankita Brahmachari, Priya Singh, Avdhesh Garg...   \n",
       "4            [Alvaro L. Islas, Constance M. Schober]   \n",
       "\n",
       "                                     id  n_citation  \\\n",
       "0  00127ee2-cb05-48ce-bc49-9de556b93346           0   \n",
       "1  001c58d3-26ad-46b3-ab3a-c1e557d16821          50   \n",
       "2  001c8744-73c4-4b04-9364-22d31a10dbf1          50   \n",
       "3  00a119c4-d367-4607-b3c8-b237f2971bff           0   \n",
       "4  00bcf2d5-1592-46b0-81fd-933f90b5ecca          50   \n",
       "\n",
       "                                          references  \\\n",
       "0  [51c7e02e-f5ed-431a-8cf5-f761f266d4be, 69b625b...   \n",
       "1  [10482dd3-4642-4193-842f-85f3b70fcf65, 3133714...   \n",
       "2  [2d84c0f2-e656-4ce7-b018-90eda1c132fe, a083a1b...   \n",
       "3  [84d47128-58d0-4187-aa44-389fde7d5c83, e0dce69...   \n",
       "4                                                 []   \n",
       "\n",
       "                                               title  \\\n",
       "0  Preliminary Design of a Network Protocol Learn...   \n",
       "1  A methodology for the physically accurate visu...   \n",
       "2  Comparison of GARCH, Neural Network and Suppor...   \n",
       "3  Identifying Psychological Theme Words from Emo...   \n",
       "4  Multisymplectic Spectral Methods for the Gross...   \n",
       "\n",
       "                                               venue  year  \n",
       "0  international conference on human-computer int...  2013  \n",
       "1            visual analytics science and technology  2011  \n",
       "2       pattern recognition and machine intelligence  2009  \n",
       "3                                                     2013  \n",
       "4  international conference on conceptual structures  2002  "
      ]
     },
     "execution_count": 65,
     "metadata": {},
     "output_type": "execute_result"
    }
   ],
   "source": [
    "df1.head()"
   ]
  },
  {
   "cell_type": "code",
   "execution_count": 66,
   "metadata": {
    "collapsed": true
   },
   "outputs": [],
   "source": [
    "# Calculating inlinks, in_count, outlinks and out_count for each paper\n",
    "references = list(df1[\"references\"])\n",
    "outlinks = []\n",
    "out_count = []\n",
    "for i in range(len(references)):\n",
    "    outlinks.append(references[i])\n",
    "    out_count.append(len(references[i]))\n",
    "#print(outlinks[0])\n",
    "\n",
    "size = len(dic1)\n",
    "inlinks = [[] for i in range(size)]\n",
    "in_count = [0] * size\n",
    "for i in range(len(outlinks)):\n",
    "    for j in range(len(outlinks[i])):\n",
    "        in_count[dic1[outlinks[i][j]]] = in_count[dic1[outlinks[i][j]]] + 1\n",
    "        inlinks[dic1[outlinks[i][j]]].append(i)\n",
    "#print(in_count[100:200])"
   ]
  },
  {
   "cell_type": "markdown",
   "metadata": {},
   "source": [
    "### Rank Papers Incount"
   ]
  },
  {
   "cell_type": "code",
   "execution_count": 67,
   "metadata": {
    "collapsed": true
   },
   "outputs": [],
   "source": [
    "# dictionary for incounts\n",
    "dic_citations = {}\n",
    "for i in range(len(references)):\n",
    "    dic_citations[i] = 0\n",
    "\n",
    "for i in range(len(references)):\n",
    "    dic_citations[i] = dic_citations[i] + in_count[i]"
   ]
  },
  {
   "cell_type": "code",
   "execution_count": 68,
   "metadata": {},
   "outputs": [
    {
     "name": "stdout",
     "output_type": "stream",
     "text": [
      "227869 2140 2140\n",
      "A Temporal Logic of Nested Calls and Returns\n",
      "362104 1720 1720\n",
      "Perceived usefulness, perceived ease of use, and user acceptance of information technology\n",
      "669077 1517 1517\n",
      "A method for obtaining digital signatures and public-key cryptosystems\n",
      "640864 1168 1168\n",
      "Data clustering: a review\n",
      "295001 1064 1064\n",
      "Differential Evolution – A Simple and Efficient Heuristic for Global Optimization over Continuous Spaces\n",
      "506639 1063 1063\n",
      "Time, clocks, and the ordering of events in a distributed system\n",
      "541628 973 973\n",
      "Term-weighting approaches in automatic text retrieval\n",
      "338393 960 960\n",
      "SURF: speeded up robust features\n",
      "375195 936 936\n",
      "Handlers of Algebraic Effects\n",
      "337273 922 922\n",
      "A density-based algorithm for discovering clusters in large spatial databases with noise\n"
     ]
    }
   ],
   "source": [
    "for key in sorted(dic_citations, key=dic_citations.get, reverse=True)[:10]:\n",
    "    print(key, dic_citations[key], in_count[key])\n",
    "    print(df1.at[key, \"title\"])"
   ]
  },
  {
   "cell_type": "markdown",
   "metadata": {},
   "source": [
    "### Rank Papers Outcount"
   ]
  },
  {
   "cell_type": "code",
   "execution_count": 69,
   "metadata": {
    "collapsed": true
   },
   "outputs": [],
   "source": [
    "# dictionary for outcount\n",
    "dic_outlinks = {}\n",
    "for i in range(len(references)):\n",
    "    dic_outlinks[i] = 0\n",
    "\n",
    "for i in range(len(references)):\n",
    "    dic_outlinks[i] = dic_outlinks[i] + out_count[i]"
   ]
  },
  {
   "cell_type": "code",
   "execution_count": 70,
   "metadata": {},
   "outputs": [
    {
     "name": "stdout",
     "output_type": "stream",
     "text": [
      "544683 630 1\n",
      "Image analysis and computer vision: 1991\n",
      "508669 478 8\n",
      "Super-resolution: a comprehensive survey\n",
      "679323 449 1\n",
      "Picture processing: 1986\n",
      "250542 386 1\n",
      "Data-driven shape analysis and processing\n",
      "571298 351 13\n",
      "Informetrics at the beginning of the 21st century—A review\n",
      "156372 306 28\n",
      "Memory Systems: Cache, DRAM, Disk\n",
      "581893 296 0\n",
      "Spoken content retrieval: beyond cascading speech recognition with text retrieval\n",
      "678110 294 6\n",
      "Modern development methods and tools for embedded reconfigurable systems: A survey\n",
      "174009 283 64\n",
      "Transactional information systems: theory, algorithms, and the practice of concurrency control and recovery\n",
      "79209 264 1\n",
      "A review of the literature on citation impact indicators\n"
     ]
    }
   ],
   "source": [
    "for key in sorted(dic_outlinks, key=dic_outlinks.get, reverse=True)[:10]:\n",
    "    print(key, dic_outlinks[key], in_count[key])\n",
    "    print(df1.at[key, \"title\"])"
   ]
  },
  {
   "cell_type": "markdown",
   "metadata": {},
   "source": [
    "### Topic Modelling Approach 2"
   ]
  },
  {
   "cell_type": "code",
   "execution_count": 77,
   "metadata": {
    "collapsed": true
   },
   "outputs": [],
   "source": [
    "cdf1 = df1[:100000]"
   ]
  },
  {
   "cell_type": "code",
   "execution_count": null,
   "metadata": {
    "collapsed": true
   },
   "outputs": [],
   "source": [
    "doc_complete = list(cdf1['abstract'])\n",
    "doc_complete = [str(i) for i in doc_complete]\n",
    "import nltk\n",
    "nltk.download(\"stopwords\")\n",
    "from nltk.corpus import stopwords\n",
    "from nltk.stem.wordnet import WordNetLemmatizer\n",
    "import string\n",
    "stop = set(stopwords.words('english'))\n",
    "exclude = set(string.punctuation)\n",
    "lemma = WordNetLemmatizer()\n",
    "def clean(doc):\n",
    "    stop_free = \" \".join([i for i in doc.lower().split() if i not in stop])\n",
    "    punc_free = ''.join(ch for ch in stop_free if ch not in exclude)\n",
    "    normalized = \" \".join(lemma.lemmatize(word) for word in punc_free.split())\n",
    "    return normalized\n",
    "\n",
    "doc_clean = [clean(doc).split() for doc in doc_complete]"
   ]
  },
  {
   "cell_type": "code",
   "execution_count": 79,
   "metadata": {
    "collapsed": true
   },
   "outputs": [],
   "source": [
    "seed_topic_list =  [[\"Face\", \"Recognition\", \"Video\", \"Expression\", \"Markov\", \"Information propagation\", \"Texture\", \"Synthesis\", \"dirichlet\", \"local feature\", \"alignment\", \"Boosted face detection\", \"BOW index\", \"category\", \"discovery\",\"vision\", \"image deionising\", \"image histogram\", \"tone mapping\", \"retinex\", \"gamma correction\", \"affine transform\", \"homography\", \"hough\", \"radon\", \"image compression\", \"filter bank\", \"gabor filter\", \"visual perception\", \"visual system\", \"color\", \"palette\", \"contour detection\", \"edge detection\", \"edge linking\", \"harris corner detector\", \"projective geometry\", \"geometric hashing\", \"image pyramid\", \"image segmentation\", \"motion field\", \"motion vector\", \"optical flow\", \"particle filtering\", \"eigenface\"],\n",
    " [\"Memory\", \"synchronization\", \"concurrent\", \"virtual memory\", \"locks\", \"semaphore\", \"mutex\", \"page fault\", \"file system\", \"operating system\", \"virtual\", \"systems programming\", \"process\", \"thread\", \"file\", \"socket\", \"memory\", \"LRU\", \"EDF\", \"PCB\", \"Wait\", \"Round robin\", \"Process state\", \"Program counter\"],\n",
    " [\"Lan\", \"wan\", \"wireless\", \"network\", \"security\", \"adhoc\", \"sensor network\", \"routing\", \"protocol\", \"adaptive streaming\", \"multicasting\", \"data forwarding\", \"capacity plan\", \"load balancing\", \"traffic\"],\n",
    " [\"Turing machine\", \"church\", \"turing\", \"halting\", \"recursion theory\", \"theory\", \"time\", \"space\", \"complexity\", \"np complete\", \"probabilistic algorithm\", \"diagonalization\", \"adleman\", \"finite\", \"automata\", \"non-deterministic\", \"deterministic\", \"state\", \"np hard\", \"polynomial\", \"non-polynomial\"],\n",
    " [\"Kernel methods\", \"Nonparametric Bayesian methods\", \"Reinforcement learning\", \"Problem solving\", \"decisions\", \"games\", \"Symbolic algebra\", \"Collaborative filtering\", \"Information extraction\", \"Image search\", \"video search\", \"Intelligent information systems\", \"Parsing\", \"Machine translation\", \"Speech Recognition\", \"Context Modeling\", \"Dialog Systems\", \"Object Recognition\", \"Scene Understanding. Human Activity Recognition\", \"Machine learning\", \"decision tree\", \"SVM\", \"LSTM\", \"Bi-LSTM\", \"CNN\", \"RNN\", \"natural language processing\"],\n",
    " [\"Logic components\", \"Boolean algebra\", \"combinational logic\", \"synchronous\", \"asynchronous\", \"sequential logic\", \"digital subsystems\", \"computer organization\", \"computer design\", \"control structures\", \"communication\", \"memories\", \"processors\", \"I/O devices\", \"Processor design\", \"instruction set design\", \"addressing; control structure\", \"microprogramming\", \"memory management\", \"cache\", \"memory hierarchy\", \"interrupt\", \"I/O structure\", \"multi-computers and networks\", \"high performance machine\", \"special purpose processor\", \"data flow architecture\", \"circuit simulation\", \"system timing\", \"organizational and architectural consideration\"],\n",
    " [\"Sensory motor control\", \"Vision\", \"Audition\", \"Biomimetics\", \"Brain-machine interface\", \"Computational neuroscience\", \"computational biology\", \"Healthcare systems\", \"Physiological model\", \"Medical imaging\", \"bioimage analysis\"],\n",
    " [\"Coordination avoidance\", \"consistency\", \"monotonicity analysis\", \"transaction\", \"isolation levels\", \"protocols\", \"distributed analytics\", \"fault tolerance\", \"fault injection\", \"Hot storage\", \"cold storage\", \"indexing\", \"data skip\", \"version\", \"Data lineage\", \"usage track\", \"collective intelligence\", \"metadata representation\", \"Data processing\", \"homomorphic encryption\", \"data compression\", \"data encryption\", \"differential privacy\", \"database\"]]\n",
    "\n",
    "words = []\n",
    "for i in doc_clean:\n",
    "    for j in i:\n",
    "        words.append(j)\n",
    "        \n",
    "for i in seed_topic_list:\n",
    "    for j in i:\n",
    "        words.append(j)\n",
    "\n",
    "vocab = list(set(words))\n",
    "word2id = dict((v, idx) for idx, v in enumerate(vocab))"
   ]
  },
  {
   "cell_type": "code",
   "execution_count": 80,
   "metadata": {},
   "outputs": [
    {
     "name": "stderr",
     "output_type": "stream",
     "text": [
      "INFO:gensim.corpora.dictionary:adding document #0 to Dictionary(0 unique tokens: [])\n",
      "INFO:gensim.corpora.dictionary:adding document #10000 to Dictionary(46716 unique tokens: ['captology', 'filterings', 'bdmst', '2point', 'experiences—from']...)\n",
      "INFO:gensim.corpora.dictionary:adding document #20000 to Dictionary(73301 unique tokens: ['mashlets', 'conceptu', 'captology', 'filterings', 'bdmst']...)\n",
      "INFO:gensim.corpora.dictionary:adding document #30000 to Dictionary(95356 unique tokens: ['nonprivate', 'intruder', 'rototranslation', 'evacuee', 'berechnet']...)\n",
      "INFO:gensim.corpora.dictionary:adding document #40000 to Dictionary(115107 unique tokens: ['nonprivate', 'verycomplicated', 'intruder', 'kmservices', 'rototranslation']...)\n",
      "INFO:gensim.corpora.dictionary:adding document #50000 to Dictionary(133415 unique tokens: ['nonprivate', 'verycomplicated', 'intruder', 'kmservices', 'rototranslation']...)\n",
      "INFO:gensim.corpora.dictionary:adding document #60000 to Dictionary(150829 unique tokens: ['lcsand', 'nonprivate', 'verycomplicated', 'intruder', 'kmservices']...)\n",
      "INFO:gensim.corpora.dictionary:adding document #70000 to Dictionary(169536 unique tokens: ['lcsand', 'nonprivate', 'verycomplicated', 'xolap', 'blackholes']...)\n",
      "INFO:gensim.corpora.dictionary:adding document #80000 to Dictionary(193145 unique tokens: ['9090', 'intruder', 'kmservices', 'rototranslation', '1767']...)\n",
      "INFO:gensim.corpora.dictionary:adding document #90000 to Dictionary(214409 unique tokens: ['9090', 'intruder', 'kmservices', 'rototranslation', '1767']...)\n",
      "INFO:gensim.corpora.dictionary:built Dictionary(229922 unique tokens: ['9090', 'intruder', 'kmservices', 'rototranslation', '1767']...) from 100000 documents (total 8444102 corpus positions)\n"
     ]
    }
   ],
   "source": [
    "import gensim\n",
    "from gensim import corpora\n",
    "dictionary = corpora.Dictionary(doc_clean)\n",
    "doc_term_matrix = [dictionary.doc2bow(doc) for doc in doc_clean]"
   ]
  },
  {
   "cell_type": "code",
   "execution_count": 81,
   "metadata": {},
   "outputs": [
    {
     "name": "stderr",
     "output_type": "stream",
     "text": [
      "INFO:guidedlda:n_documents: 100000\n",
      "INFO:guidedlda:vocab_size: 383\n",
      "INFO:guidedlda:n_words: 8444102\n",
      "INFO:guidedlda:n_topics: 8\n",
      "INFO:guidedlda:n_iter: 100\n",
      "WARNING:guidedlda:all zero row in document-term matrix found\n"
     ]
    },
    {
     "name": "stdout",
     "output_type": "stream",
     "text": [
      "[[1 1 2 ..., 0 0 0]\n",
      " [1 1 1 ..., 0 0 0]\n",
      " [1 1 1 ..., 0 0 0]\n",
      " ..., \n",
      " [3 4 1 ..., 0 0 0]\n",
      " [1 2 1 ..., 0 0 0]\n",
      " [3 4 1 ..., 0 0 0]]\n"
     ]
    },
    {
     "name": "stderr",
     "output_type": "stream",
     "text": [
      "INFO:guidedlda:<0> log likelihood: -59110658\n",
      "INFO:guidedlda:<20> log likelihood: -40921401\n",
      "INFO:guidedlda:<40> log likelihood: -39051655\n",
      "INFO:guidedlda:<60> log likelihood: -38555198\n",
      "INFO:guidedlda:<80> log likelihood: -38369545\n",
      "INFO:guidedlda:<99> log likelihood: -38257554\n"
     ]
    },
    {
     "name": "stdout",
     "output_type": "stream",
     "text": [
      "Topic 0: fruct kmservices rototranslation languagerntheir ologkn intruder berechnet instantiated interessants warmstart\n",
      "Topic 1: fruct boneh functionsdeceptive tinted kmservices kindergarten itemitem superactor period franchir\n",
      "Topic 2: satisability 325psi kmservices swissprot fruct thecluster μagent germane coroutine aesgcm\n",
      "Topic 3: fruct kmservices instantiated rototranslation dirichlettoneumann warmstart noveltyrecall chemostatlike intruder ologkn\n",
      "Topic 4: instantiated fruct kmservices berechnet ologkn chemostatlike intruder dirichlettoneumann warmstart typereduced\n",
      "Topic 5: intruder fruct kmservices rototranslation berechnet ologkn languagerntheir warmstart typereduced interessants\n",
      "Topic 6: fruct kmservices rototranslation franchir kindergarten noveltyrecall instantiated functionsdeceptive dirichlettoneumann chemostatlike\n",
      "Topic 7: developpons hmminduced vtlnwarping nondeterminisitic query sydneybased v241 declarativestyle mptsvm 0varphimathfrakcnxn\n"
     ]
    }
   ],
   "source": [
    "#print(doc_term_matrix)\n",
    "import guidedlda\n",
    "tempo = []\n",
    "max_temp = 0\n",
    "for i in doc_term_matrix:\n",
    "    tempi = []\n",
    "    count = 0\n",
    "    for j in i:\n",
    "        if int(j[1]) == 0:\n",
    "            count = count + 1\n",
    "        tempi.append(int(j[1]))\n",
    "    if count != len(doc_term_matrix[0]):\n",
    "        if len(tempi) > max_temp:\n",
    "            max_temp = len(tempi)\n",
    "        tempo.append(tempi)\n",
    "\n",
    "#for i in range(len(doc_term_matrix)):\n",
    "#    for j in range(len(doc_term_matrix))\n",
    "dtm = np.zeros(shape=(len(tempo), max_temp), dtype=int)\n",
    "# import pdb;pdb.set_trace()\n",
    "#print(tempo[14])\n",
    "for i in range(len(tempo)):\n",
    "    for j in range(len(tempo[i])):\n",
    "        #print(i, j)\n",
    "        dtm[i][j] = int(tempo[i][j])\n",
    "    \n",
    "#print(tempo[0])\n",
    "#dtm = np.stack(tempo)\n",
    "#dtm=np.array([xi for xi in tempo])\n",
    "#dtm = np.array(tempo)\n",
    "print(dtm[:10])\n",
    "# print(type(dtm))\n",
    "# print(type(dtm[0]))\n",
    "#import pdb;pdb.set_trace()\n",
    "seed_topic_list =  [[\"Face\", \"Recognition\", \"Video\", \"Expression\", \"Markov\", \"Information propagation\", \"Texture\", \"Synthesis\", \"dirichlet\", \"local feature\", \"alignment\", \"Boosted face detection\", \"BOW index\", \"category\", \"discovery\",\"vision\", \"image deionising\", \"image histogram\", \"tone mapping\", \"retinex\", \"gamma correction\", \"affine transform\", \"homography\", \"hough\", \"radon\", \"image compression\", \"filter bank\", \"gabor filter\", \"visual perception\", \"visual system\", \"color\", \"palette\", \"contour detection\", \"edge detection\", \"edge linking\", \"harris corner detector\", \"projective geometry\", \"geometric hashing\", \"image pyramid\", \"image segmentation\", \"motion field\", \"motion vector\", \"optical flow\", \"particle filtering\", \"eigenface\"],\n",
    " [\"Memory\", \"synchronization\", \"concurrent\", \"virtual memory\", \"locks\", \"semaphore\", \"mutex\", \"page fault\", \"file system\", \"operating system\", \"virtual\", \"systems programming\", \"process\", \"thread\", \"file\", \"socket\", \"memory\", \"LRU\", \"EDF\", \"PCB\", \"Wait\", \"Round robin\", \"Process state\", \"Program counter\"],\n",
    " [\"Lan\", \"wan\", \"wireless\", \"network\", \"security\", \"adhoc\", \"sensor network\", \"routing\", \"protocol\", \"adaptive streaming\", \"multicasting\", \"data forwarding\", \"capacity plan\", \"load balancing\", \"traffic\"],\n",
    " [\"Turing machine\", \"church\", \"turing\", \"halting\", \"recursion theory\", \"theory\", \"time\", \"space\", \"complexity\", \"np complete\", \"probabilistic algorithm\", \"diagonalization\", \"adleman\", \"finite\", \"automata\", \"non-deterministic\", \"deterministic\", \"state\", \"np hard\", \"polynomial\", \"non-polynomial\"],\n",
    " [\"Kernel methods\", \"Nonparametric Bayesian methods\", \"Reinforcement learning\", \"Problem solving\", \"decisions\", \"games\", \"Symbolic algebra\", \"Collaborative filtering\", \"Information extraction\", \"Image search\", \"video search\", \"Intelligent information systems\", \"Parsing\", \"Machine translation\", \"Speech Recognition\", \"Context Modeling\", \"Dialog Systems\", \"Object Recognition\", \"Scene Understanding. Human Activity Recognition\", \"Machine learning\", \"decision tree\", \"SVM\", \"LSTM\", \"Bi-LSTM\", \"CNN\", \"RNN\", \"natural language processing\"],\n",
    " [\"Logic components\", \"Boolean algebra\", \"combinational logic\", \"synchronous\", \"asynchronous\", \"sequential logic\", \"digital subsystems\", \"computer organization\", \"computer design\", \"control structures\", \"communication\", \"memories\", \"processors\", \"I/O devices\", \"Processor design\", \"instruction set design\", \"addressing; control structure\", \"microprogramming\", \"memory management\", \"cache\", \"memory hierarchy\", \"interrupt\", \"I/O structure\", \"multi-computers and networks\", \"high performance machine\", \"special purpose processor\", \"data flow architecture\", \"circuit simulation\", \"system timing\", \"organizational and architectural consideration\"],\n",
    " [\"Sensory motor control\", \"Vision\", \"Audition\", \"Biomimetics\", \"Brain-machine interface\", \"Computational neuroscience\", \"computational biology\", \"Healthcare systems\", \"Physiological model\", \"Medical imaging\", \"bioimage analysis\"],\n",
    " [\"Coordination avoidance\", \"consistency\", \"monotonicity analysis\", \"transaction\", \"isolation levels\", \"protocols\", \"distributed analytics\", \"fault tolerance\", \"fault injection\", \"Hot storage\", \"cold storage\", \"indexing\", \"data skip\", \"version\", \"Data lineage\", \"usage track\", \"collective intelligence\", \"metadata representation\", \"Data processing\", \"homomorphic encryption\", \"data compression\", \"data encryption\", \"differential privacy\", \"database\"]]\n",
    "\n",
    "model = guidedlda.GuidedLDA(n_topics=8, n_iter=100, random_state=7, refresh=20)\n",
    "\n",
    "seed_topics = {}\n",
    "for t_id, st in enumerate(seed_topic_list):\n",
    "    for word in st:\n",
    "        seed_topics[word2id[word]] = t_id\n",
    "\n",
    "model.fit(dtm, seed_topics=seed_topics, seed_confidence=0.15)\n",
    "\n",
    "n_top_words = 10\n",
    "topic_word = model.topic_word_\n",
    "for i, topic_dist in enumerate(topic_word):\n",
    "    topic_words = np.array(vocab)[np.argsort(topic_dist)][:-(n_top_words+1):-1]\n",
    "    print('Topic {}: {}'.format(i, ' '.join(topic_words)))"
   ]
  },
  {
   "cell_type": "code",
   "execution_count": 82,
   "metadata": {},
   "outputs": [
    {
     "name": "stderr",
     "output_type": "stream",
     "text": [
      "WARNING:guidedlda:all zero row in document-term matrix found\n"
     ]
    },
    {
     "name": "stdout",
     "output_type": "stream",
     "text": [
      "100000\n"
     ]
    }
   ],
   "source": [
    "doc_topic = model.transform(dtm)\n",
    "topic = []\n",
    "for i in range(len(doc_topic)):\n",
    "    topic.append(doc_topic[i].argmax())\n",
    "    #print(\"top topic: {} Document: {}\".format(doc_topic[i].argmax(),\n",
    "    #                                              ', '.join(np.array(vocab)[list(reversed(dtm[i,:].argsort()))[0:5]])))\n",
    "print(len(topic))"
   ]
  },
  {
   "cell_type": "code",
   "execution_count": 72,
   "metadata": {},
   "outputs": [
    {
     "data": {
      "text/plain": [
       "\"Users of a digital book library system typically interact with the system to search for books by querying on the meta data describing the books or to search for information in the pages of a book by querying using one or more keywords. In either cases, a large volume of results are returned of which, the results relevant to the user are not often among the top few. Re-ranking of the search results according to the user's interest based on his relevance feedback, has received wide attention in information retrieval. Also, recent work in collaborative filtering and information retrieval has shown that sharing of search experiences among users having similar interests, typically called a community, reduces the effort put in by any given user in retrieving the exact information of interest. In this paper, we propose a collaborative filtering based re-ranking strategy for the search processes in a digital library system. Our approach is to learn a user profile representing user's interests using Machine Learning techniques and to re-rank the search results based on collaborative filtering techniques. In particular, we investigate the use of Support Vector Machines(SVMs) and k-Nearest Neighbour methods (kNN) for the task of classification. We also apply this approach to a large scale online Digital Library System and present the results of our evaluation.\""
      ]
     },
     "execution_count": 72,
     "metadata": {},
     "output_type": "execute_result"
    }
   ],
   "source": [
    "for i in range(15,20):\n",
    "    print(topic[i], list(cdf1['abstract'])[i])\n",
    "list(cdf1['abstract'])[]"
   ]
  },
  {
   "cell_type": "markdown",
   "metadata": {},
   "source": [
    "### Topic Modelling Approach 1"
   ]
  },
  {
   "cell_type": "code",
   "execution_count": null,
   "metadata": {
    "collapsed": true
   },
   "outputs": [],
   "source": [
    "# Topic Modelling using LDA\n",
    "doc_complete = list(cdf1['abstract'])\n",
    "doc_complete = [str(i) for i in doc_complete]\n",
    "import nltk\n",
    "nltk.download(\"stopwords\")\n",
    "from nltk.corpus import stopwords\n",
    "from nltk.stem.wordnet import WordNetLemmatizer\n",
    "import string\n",
    "stop = set(stopwords.words('english'))\n",
    "exclude = set(string.punctuation)\n",
    "lemma = WordNetLemmatizer()\n",
    "def clean(doc):\n",
    "    stop_free = \" \".join([i for i in doc.lower().split() if i not in stop])\n",
    "    punc_free = ''.join(ch for ch in stop_free if ch not in exclude)\n",
    "    normalized = \" \".join(lemma.lemmatize(word) for word in punc_free.split())\n",
    "    return normalized\n",
    "\n",
    "doc_clean = [clean(doc).split() for doc in doc_complete]"
   ]
  },
  {
   "cell_type": "code",
   "execution_count": 289,
   "metadata": {},
   "outputs": [
    {
     "name": "stdout",
     "output_type": "stream",
     "text": [
      "[(0, '0.008*\"network\" + 0.006*\"model\" + 0.005*\"performance\"'), (1, '0.009*\"problem\" + 0.008*\"system\" + 0.007*\"algorithm\"'), (2, '0.011*\"method\" + 0.009*\"algorithm\" + 0.008*\"data\"'), (3, '0.014*\"system\" + 0.009*\"paper\" + 0.008*\"model\"'), (4, '0.013*\"de\" + 0.007*\"system\" + 0.005*\"set\"')]\n"
     ]
    }
   ],
   "source": [
    "import gensim\n",
    "from gensim import corpora\n",
    "dictionary = corpora.Dictionary(doc_clean)\n",
    "doc_term_matrix = [dictionary.doc2bow(doc) for doc in doc_clean]\n",
    "Lda = gensim.models.ldamodel.LdaModel\n",
    "ldamodel = Lda(doc_term_matrix, num_topics=5, id2word = dictionary, passes=50)\n",
    "print(ldamodel.print_topics(num_topics=5, num_words=3))"
   ]
  },
  {
   "cell_type": "code",
   "execution_count": null,
   "metadata": {
    "collapsed": true
   },
   "outputs": [],
   "source": [
    "doc_all = list(df1['title'])\n",
    "doc_all = [str(i) for i in doc_all]\n",
    "apply_doc = [clean(doc).split() for doc in doc_all]\n",
    "for doc in apply_doc:\n",
    "    temp = dictionary.doc2bow(doc)\n",
    "    print(ldamodel[temp])"
   ]
  },
  {
   "cell_type": "markdown",
   "metadata": {},
   "source": [
    "### Topic Modelling Approach 3"
   ]
  },
  {
   "cell_type": "code",
   "execution_count": null,
   "metadata": {
    "collapsed": true
   },
   "outputs": [],
   "source": [
    "topics =  [[\"Face\", \"Recognition\", \"Video\", \"Expression\", \"Markov\", \"Information\", \"propagation\", \"Texture\", \"Synthesis\", \"dirichlet\", \"local\", \"feature\", \"alignment\", \"Boosted\", \"face\", \"detection\", \"BOW\", \"index\", \"category\", \"discovery\",\"vision\", \"deionising\", \"image\", \"histogram\", \"tone\", \"mapping\", \"retinex\", \"gamma\", \"correction\", \"affine\", \"transform\", \"homography\", \"hough\", \"radon\", \"compression\", \"filter\", \"bank\", \"gabor\", \"visual\", \"perception\", \"visual\", \"system\", \"color\", \"palette\", \"contour\", \"detection\", \"edge\", \"detection\", \"edge\", \"linking\", \"harris\", \"corner\", \"detector\", \"projective\", \"geometry\", \"geometric\", \"hashing\", \"image\", \"pyramid\", \"image\", \"segmentation\", \"motion\" ,\"field\", \"motion\", \"vector\", \"optical\", \"flow\", \"particle\", \"filtering\", \"eigenface\"],\n",
    " [\"Memory\", \"synchronization\", \"concurrent\", \"virtual memory\", \"locks\", \"semaphore\", \"mutex\", \"page\", \"fault\", \"file\", \"system\", \"operating\", \"virtual\", \"systems\", \"programming\", \"thread\", \"file\", \"socket\", \"memory\", \"LRU\", \"EDF\", \"PCB\", \"Wait\", \"Round\", \"robin\", \"Process\", \"state\", \"Program\", \"counter\"],\n",
    " [\"Lan\", \"wan\", \"wireless\", \"network\", \"security\", \"adhoc\", \"sensor\", \"routing\", \"protocol\", \"adaptive\", \"streaming\", \"multicasting\", \"data\", \"forwarding\", \"capacity\", \"plan\", \"load\", \"balancing\", \"traffic\"],\n",
    " [\"Turing\", \"machine\", \"church\", \"halting\", \"recursion\", \"theory\", \"time\", \"space\", \"complexity\", \"np\", \"complete\", \"probabilistic\", \"algorithm\", \"diagonalization\", \"adleman\", \"finite\", \"automata\", \"non-deterministic\", \"deterministic\", \"state\", \"np\", \"hard\", \"polynomial\", \"non-polynomial\"],\n",
    " [\"Kernel\", \"Nonparametric\", \"Bayesian\", \"methods\", \"Reinforcement\", \"learning\", \"Problem\", \"solving\", \"decisions\", \"games\", \"Symbolic\", \"algebra\", \"supervised\", \"unsupervised\", \"corpus\", \"dataset\", \"train\", \"training\", \"clustering\", \"bayesian\", \"bayes\", \"recall\", \"precision\", \"Collaborative\", \"filtering\", \"Information\", \"extraction\", \"Image\", \"search\", \"video\", \"search\", \"Intelligent\", \"information\", \"systems\", \"Parsing\", \"Machine\", \"translation\", \"Speech\", \"Recognition\", \"Context\", \"Modeling\", \"Dialog\", \"Object\", \"Recognition\", \"Scene\", \"Understanding\", \"Human\", \"Activity\", \"Recognition\", \"Machine\", \"learning\", \"decision\", \"tree\", \"SVM\", \"LSTM\", \"Bi-LSTM\", \"CNN\", \"RNN\", \"natural\", \"language\", \"processing\", \"recursive\"],\n",
    " [\"Logic\", \"components\", \"Boolean\", \"algebra\", \"combinational\", \"synchronous\", \"asynchronous\", \"sequential\", \"digital\", \"subsystems\", \"computer\", \"organization\", \"computer\", \"design\", \"control\", \"structures\", \"communication\", \"memories\", \"processors\", \"I/O\", \"devices\", \"Processor\", \"design\", \"instruction\", \"set\", \"design\", \"addressing;\", \"control\", \"structure\", \"microprogramming\", \"memory\", \"management\", \"cache\", \"memory\", \"hierarchy\", \"interrupt\", \"I/O\", \"structure\", \"multi-computers\", \"networks\", \"high\", \"performance\", \"machine\", \"special\", \"purpose\", \"processor\", \"data\", \"flow\", \"architecture\", \"circuit\", \"simulation\", \"system\", \"timing\", \"organizational\", \"architectural\", \"consideration\"],\n",
    " [\"Sensory\", \"motor\", \"control\", \"Vision\", \"Audition\", \"Biomimetics\", \"Brain-machine\", \"interface\", \"Computational\", \"neuroscience\", \"computational\", \"biology\", \"Healthcare\", \"systems\", \"Physiological\", \"model\", \"Medical\", \"imaging\", \"bioimage\", \"analysis\"],\n",
    " [\"Coordination\", \"avoidance\", \"consistency\", \"monotonicity\", \"analysis\", \"transaction\", \"isolation\", \"levels\", \"protocols\", \"distributed\", \"analytics\", \"fault\", \"tolerance\", \"injection\", \"Hot\", \"storage\", \"cold\", \"storage\", \"indexing\", \"data\", \"skip\", \"version\", \"Data\", \"lineage\", \"usage\", \"track\", \"collective\", \"intelligence\", \"metadata\", \"representation\", \"Data\", \"processing\", \"homomorphic\", \"encryption\", \"compression\",\"encryption\", \"differential\", \"privacy\", \"database\", \"no-sql\", \"sql\", \"query\"]]\n",
    "\n",
    "topic_names = [\"CV\", \"OS\", \"CN\", \"TH\", \"AI\", \"CA\", \"CB\", \"DB\"]"
   ]
  },
  {
   "cell_type": "code",
   "execution_count": null,
   "metadata": {
    "collapsed": true
   },
   "outputs": [],
   "source": [
    "results = []\n",
    "for idx,row in df1.iterrows():\n",
    "    tokens = word_tokenize(row['abstract'])\n",
    "    decider = [0,0,0,0,0,0,0,0]\n",
    "    for each in tokens:\n",
    "        for t in range(len(topics)):\n",
    "            try:\n",
    "              if each in topics[t]:\n",
    "                 decider[t] += 1\n",
    "            except Exception as e:\n",
    "              print t,e\n",
    "    results.append(decider.index(max(decider)))"
   ]
  },
  {
   "cell_type": "code",
   "execution_count": null,
   "metadata": {
    "collapsed": true
   },
   "outputs": [],
   "source": [
    "df1['topic'] = pd.Series(results)\n",
    "auth_topics = {}\n",
    "len(auth_topics)\n",
    "# print cdf['authors']\n",
    "authors = df1['authors']\n",
    "for idx in range(len(authors)):\n",
    "    for auth in authors[idx]:\n",
    "        if auth in auth_topics:\n",
    "            auth_topics[auth].append(results[idx])\n",
    "        else:\n",
    "            auth_topics[auth] = [results[idx]]\n",
    "\n",
    "auth_topic = {}\n",
    "for auth in auth_topics.keys():\n",
    "    auth_topic[auth] = max(dict(Counter(auth_topics[auth])).iteritems(), key= lambda x:x[1])[0]"
   ]
  },
  {
   "cell_type": "code",
   "execution_count": null,
   "metadata": {
    "collapsed": true
   },
   "outputs": [],
   "source": [
    "print auth_topics.keys()[10],auth_topic[auth_topics.keys()[10]], auth_topics[auth_topics.keys()[10]]"
   ]
  },
  {
   "cell_type": "code",
   "execution_count": null,
   "metadata": {
    "collapsed": true
   },
   "outputs": [],
   "source": [
    "df_auth_topics = []\n",
    "for idx,row in fd.iterrows():\n",
    "    if row['Author'] in auth_topic:\n",
    "        df_auth_topics.append(auth_topic[row['Author']])\n",
    "    else:\n",
    "        df_auth_topics.append(random.randint(0,7))\n",
    "        \n",
    "papers_topic = {}\n",
    "for idx,row in df1.iterrows():\n",
    "    if row['id'] not in papers_topic:\n",
    "        papers_topic[row['id']] = row['topic']\n",
    "        \n",
    "outlinks = {}\n",
    "for idx,row in df1.iterrows():\n",
    "    if row['id'] in outlinks:\n",
    "        outlinks[row['id']] += row['references']\n",
    "    else:\n",
    "        outlinks[row['id']] = row['references']\n",
    "        \n",
    "inlinks = {}\n",
    "for k in outlinks:\n",
    "    for j in outlinks[k]:\n",
    "        if j in inlinks:\n",
    "            inlinks[j].append(k)\n",
    "        else:\n",
    "            inlinks[j] = [k]"
   ]
  },
  {
   "cell_type": "markdown",
   "metadata": {},
   "source": [
    "### Page Rank Algorithm"
   ]
  },
  {
   "cell_type": "code",
   "execution_count": 71,
   "metadata": {},
   "outputs": [
    {
     "name": "stdout",
     "output_type": "stream",
     "text": [
      "[0.15, 0.15, 0.15, 0.15, 0.575, 0.575, 0.15, 2.4704636752136753, 0.15, 1.3487179487179486]\n",
      "[0.15, 0.15, 0.15, 0.15, 0.21375, 0.21375, 0.15, 0.9100448623164584, 0.15, 0.32980769230769225]\n",
      "[0.15, 0.15, 0.15, 0.15, 0.21375, 0.21375, 0.15, 0.5738730085123822, 0.15, 0.32980769230769225]\n",
      "[0.15, 0.15, 0.15, 0.15, 0.21375, 0.21375, 0.15, 0.5624431654830436, 0.15, 0.32980769230769225]\n",
      "[0.15, 0.15, 0.15, 0.15, 0.21375, 0.21375, 0.15, 0.5620545508200461, 0.15, 0.32980769230769225]\n",
      "[0.15, 0.15, 0.15, 0.15, 0.21375, 0.21375, 0.15, 0.5620413379215041, 0.15, 0.32980769230769225]\n",
      "[0.0018438105839200833, 0.0018438105839200833, 0.0018438105839200833, 0.0018438105839200833, 0.0026274300820861188, 0.0026274300820861188, 0.0018438105839200833, 0.006908651783068489, 0.0018438105839200833, 0.004054019424901209]\n"
     ]
    }
   ],
   "source": [
    "# Page Rank Algorithm\n",
    "new_rank1 = [1.0 for i in range(len(references))]\n",
    "ids = df1['id']\n",
    "\n",
    "while True:\n",
    "    flag = True\n",
    "    updated_page_rank = []\n",
    "    for i in range(len(ids)):\n",
    "        curr_score = new_rank1[i]\n",
    "        temp = inlinks[i]\n",
    "        new_score = 0.0\n",
    "        for j in range(len(temp)):\n",
    "            #print(out_count[j])\n",
    "            if out_count[j] != 0:\n",
    "                new_score = new_score + float(new_rank1[j]/out_count[j])\n",
    "        new_score = 0.15 + 0.85*new_score\n",
    "        \n",
    "        if curr_score - new_score > 0.001:\n",
    "            flag = False\n",
    "        updated_page_rank.append(new_score)\n",
    "        \n",
    "    if flag == True:\n",
    "        break\n",
    "    \n",
    "    new_rank1 = updated_page_rank\n",
    "    print(new_rank1[:10])\n",
    "max_score = max(new_rank1)\n",
    "for i in range(len(ids)):\n",
    "    new_rank1[i] = new_rank1[i]/max_score\n",
    "\n",
    "print(new_rank1[:10])"
   ]
  },
  {
   "cell_type": "code",
   "execution_count": 72,
   "metadata": {},
   "outputs": [
    {
     "name": "stdout",
     "output_type": "stream",
     "text": [
      "709207\n"
     ]
    }
   ],
   "source": [
    "# page rank dictionary\n",
    "dic2 = {}\n",
    "for i in range(len(ids)):\n",
    "    dic2[i] = new_rank1[i]\n",
    "print(len(dic2))"
   ]
  },
  {
   "cell_type": "code",
   "execution_count": 73,
   "metadata": {},
   "outputs": [
    {
     "name": "stdout",
     "output_type": "stream",
     "text": [
      "227869 1.0 2140\n",
      "A Temporal Logic of Nested Calls and Returns 2004\n",
      "362104 0.8047922014718679 1720\n",
      "Perceived usefulness, perceived ease of use, and user acceptance of information technology 1989\n",
      "669077 0.7005422367634623 1517\n",
      "A method for obtaining digital signatures and public-key cryptosystems 1978\n",
      "640864 0.5231407829948256 1168\n",
      "Data clustering: a review 1999\n",
      "295001 0.47405932074570467 1064\n",
      "Differential Evolution – A Simple and Efficient Heuristic for Global Optimization over Continuous Spaces 1997\n",
      "506639 0.4735590098353371 1063\n",
      "Time, clocks, and the ordering of events in a distributed system 1978\n",
      "541628 0.4391271909318003 973\n",
      "Term-weighting approaches in automatic text retrieval 1988\n",
      "338393 0.4323202214752482 960\n",
      "SURF: speeded up robust features 2006\n",
      "375195 0.4165893317559203 936\n",
      "Handlers of Algebraic Effects 2009\n",
      "337273 0.412919396793403 922\n",
      "A density-based algorithm for discovering clusters in large spatial databases with noise 1996\n"
     ]
    }
   ],
   "source": [
    "# Top 10 papers according to page rank\n",
    "for key in sorted(dic2, key=dic2.get, reverse=True)[:10]:\n",
    "    print(key, dic2[key], in_count[key])\n",
    "    print(df1.at[key, \"title\"], df1.at[key, \"year\"])"
   ]
  },
  {
   "cell_type": "code",
   "execution_count": 74,
   "metadata": {
    "collapsed": true
   },
   "outputs": [],
   "source": [
    "page_year = df1[\"year\"]\n",
    "min_year = min(page_year)\n",
    "max_year = max(page_year)"
   ]
  },
  {
   "cell_type": "code",
   "execution_count": 75,
   "metadata": {},
   "outputs": [
    {
     "name": "stdout",
     "output_type": "stream",
     "text": [
      "1954 2017\n"
     ]
    }
   ],
   "source": [
    "print(min_year, max_year)"
   ]
  },
  {
   "cell_type": "code",
   "execution_count": 76,
   "metadata": {
    "collapsed": true
   },
   "outputs": [],
   "source": [
    "dic_year_dependent = {}\n",
    "for i in range(min_year, max_year+1):\n",
    "    dic_year_dependent[i] = 0\n",
    "    \n",
    "# Top 100 papers according to page rank year-wise\n",
    "for key in sorted(dic2, key=dic2.get, reverse=True)[:100]:\n",
    "    dic_year_dependent[page_year[key]] = dic_year_dependent[page_year[key]] + 1"
   ]
  },
  {
   "cell_type": "code",
   "execution_count": 77,
   "metadata": {},
   "outputs": [
    {
     "name": "stdout",
     "output_type": "stream",
     "text": [
      "295369 413838\n"
     ]
    }
   ],
   "source": [
    "# Paper count year-wise\n",
    "count = 0\n",
    "for i in range(len(page_year)):\n",
    "    if page_year[i] > 2010:\n",
    "        count = count + 1\n",
    "print(count, len(page_year) - count)"
   ]
  },
  {
   "cell_type": "code",
   "execution_count": 78,
   "metadata": {
    "collapsed": true
   },
   "outputs": [],
   "source": [
    "# Year-wise papers and year-wise citations\n",
    "dic_year_papers = {}\n",
    "for i in range(min_year, max_year+1):\n",
    "    dic_year_papers[i] = 0\n",
    "\n",
    "dic_year_citations = {}\n",
    "for i in range(min_year, max_year+1):\n",
    "    dic_year_citations[i] = 0\n",
    "    \n",
    "for i in range(len(page_year)):\n",
    "    dic_year_papers[page_year[i]] = dic_year_papers[page_year[i]] + 1\n",
    "    dic_year_citations[page_year[i]] = dic_year_citations[page_year[i]] + in_count[i]"
   ]
  },
  {
   "cell_type": "code",
   "execution_count": 79,
   "metadata": {
    "scrolled": true
   },
   "outputs": [
    {
     "name": "stdout",
     "output_type": "stream",
     "text": [
      "1954 1\n",
      "1955 2\n",
      "1956 0\n",
      "1957 2\n",
      "1958 4\n",
      "1959 4\n",
      "1960 11\n",
      "1961 18\n",
      "1962 14\n",
      "1963 35\n"
     ]
    }
   ],
   "source": [
    "# Test year-wise papers\n",
    "temp_count = 0\n",
    "for key, value in dic_year_papers.items():\n",
    "    if temp_count == 10:\n",
    "        break\n",
    "    print(key, value)\n",
    "    temp_count = temp_count + 1"
   ]
  },
  {
   "cell_type": "code",
   "execution_count": 80,
   "metadata": {
    "collapsed": true
   },
   "outputs": [],
   "source": [
    "# Year-wise average citation per paper\n",
    "dic_average_year_citations = {}\n",
    "for i in range(min_year, max_year+1):\n",
    "    dic_average_year_citations[i] = 0\n",
    "    \n",
    "for i in range(min_year, max_year+1):\n",
    "    if dic_year_papers[page_year[i]] > 0:\n",
    "        dic_average_year_citations[page_year[i]] = dic_average_year_citations[page_year[i]] + (dic_year_citations[page_year[i]]/dic_year_papers[page_year[i]])"
   ]
  },
  {
   "cell_type": "markdown",
   "metadata": {},
   "source": [
    "### Modified Page Rank Algorithm"
   ]
  },
  {
   "cell_type": "code",
   "execution_count": 81,
   "metadata": {},
   "outputs": [
    {
     "name": "stdout",
     "output_type": "stream",
     "text": [
      "[0.15, 0.15, 0.15, 0.15, 0.26729986476453116, 0.22173927524646947, 0.15, 0.6585191677619059, 0.15, 0.5378346178026123]\n",
      "[0.15, 0.15, 0.15, 0.15, 0.16759497971467968, 0.1607608912869704, 0.15, 0.24557398210790232, 0.15, 0.20817519267039183]\n",
      "[0.15, 0.15, 0.15, 0.15, 0.16759497971467968, 0.1607608912869704, 0.15, 0.22931606547467817, 0.15, 0.20817519267039183]\n",
      "[0.15, 0.15, 0.15, 0.15, 0.16759497971467968, 0.1607608912869704, 0.15, 0.22919492860060336, 0.15, 0.20817519267039183]\n",
      "[0.15, 0.15, 0.15, 0.15, 0.16759497971467968, 0.1607608912869704, 0.15, 0.229194026016183, 0.15, 0.20817519267039183]\n",
      "[0.0027668166591404047, 0.0027668166591404047, 0.0027668166591404047, 0.0027668166591404047, 0.003091363879085826, 0.002965306081006995, 0.0027668166591404047, 0.0042275856623802295, 0.0027668166591404047, 0.003839883940668024]\n"
     ]
    }
   ],
   "source": [
    "# Modified page-rank\n",
    "new_rank2 = [1.0 for i in range(len(references))]\n",
    "ids = df1['id']\n",
    "\n",
    "while True:\n",
    "    flag = True\n",
    "    updated_page_rank = []\n",
    "    for i in range(len(ids)):\n",
    "        curr_score = new_rank2[i]\n",
    "        temp = inlinks[i]\n",
    "        new_score = 0.0\n",
    "        for j in range(len(temp)):\n",
    "            #print(out_count[j])\n",
    "            if out_count[j] != 0:\n",
    "                new_score = new_score + float(new_rank2[j]/out_count[j])\n",
    "        if dic_average_year_citations[page_year[i]] > 0:\n",
    "            new_score = 0.15 + 0.85*new_score/dic_average_year_citations[page_year[i]]\n",
    "        else:\n",
    "            new_score = 0.15 + 0.85*new_score\n",
    "        if curr_score - new_score > 0.001:\n",
    "            flag = False\n",
    "        updated_page_rank.append(new_score)\n",
    "        \n",
    "    if flag == True:\n",
    "        break\n",
    "    \n",
    "    new_rank2 = updated_page_rank\n",
    "    print(new_rank2[:10])\n",
    "max_score = max(new_rank2)\n",
    "for i in range(len(ids)):\n",
    "    new_rank2[i] = new_rank2[i]/max_score\n",
    "\n",
    "print(new_rank2[:10])"
   ]
  },
  {
   "cell_type": "code",
   "execution_count": 82,
   "metadata": {},
   "outputs": [
    {
     "name": "stdout",
     "output_type": "stream",
     "text": [
      "709207\n"
     ]
    }
   ],
   "source": [
    "# dictionary for modified page rank\n",
    "dic2 = {}\n",
    "for i in range(len(ids)):\n",
    "    dic2[i] = new_rank2[i]\n",
    "print(len(dic2))"
   ]
  },
  {
   "cell_type": "code",
   "execution_count": 83,
   "metadata": {},
   "outputs": [
    {
     "name": "stdout",
     "output_type": "stream",
     "text": [
      "362104 1.0 1720\n",
      "Perceived usefulness, perceived ease of use, and user acceptance of information technology 1989\n",
      "669077 0.873873063886146 1517\n",
      "A method for obtaining digital signatures and public-key cryptosystems 1978\n",
      "295001 0.6025268781544912 1064\n",
      "Differential Evolution – A Simple and Efficient Heuristic for Global Optimization over Continuous Spaces 1997\n",
      "506639 0.6019544610804155 1063\n",
      "Time, clocks, and the ordering of events in a distributed system 1978\n",
      "340271 0.5619052494594043 202\n",
      "Very Deep Convolutional Networks for Large-Scale Image Recognition 2015\n",
      "541628 0.5562151041615677 973\n",
      "Term-weighting approaches in automatic text retrieval 1988\n",
      "337273 0.5228489282054964 922\n",
      "A density-based algorithm for discovering clusters in large spatial databases with noise 1996\n",
      "226690 0.5158520687182288 912\n",
      "Computer architecture: a quantitative approach 1990\n",
      "615205 0.4583712200782182 818\n",
      "A Decision-Theoretic Generalization of On-Line Learning and an Application to Boosting 1997\n",
      "227869 0.40571273323430973 2140\n",
      "A Temporal Logic of Nested Calls and Returns 2004\n"
     ]
    }
   ],
   "source": [
    "# Top 10 papers according to modified\n",
    "for key in sorted(dic2, key=dic2.get, reverse=True)[:10]:\n",
    "    print(key, dic2[key], in_count[key])\n",
    "    print(df1.at[key, \"title\"], df1.at[key, \"year\"])"
   ]
  },
  {
   "cell_type": "code",
   "execution_count": 84,
   "metadata": {
    "collapsed": true
   },
   "outputs": [],
   "source": [
    "dic_year_independent = {}\n",
    "for i in range(min_year, max_year+1):\n",
    "    dic_year_independent[i] = 0\n",
    "    \n",
    "# Top 100 papers according to page rank\n",
    "for key in sorted(dic2, key=dic2.get, reverse=True)[:100]:\n",
    "    dic_year_independent[page_year[key]] = dic_year_independent[page_year[key]] + 1"
   ]
  },
  {
   "cell_type": "code",
   "execution_count": 49,
   "metadata": {},
   "outputs": [
    {
     "data": {
      "image/png": "[encoded data removed]",
      "text/plain": [
       "<matplotlib.figure.Figure at 0x1dedd640ac8>"
      ]
     },
     "metadata": {},
     "output_type": "display_data"
    }
   ],
   "source": [
    "# Plot for Distribution of papers according to publication year\n",
    "x = list(dic_year_papers.keys())\n",
    "y = list(dic_year_papers.values())\n",
    "plt.plot(x, y)\n",
    "plt.xlabel('Year')\n",
    "plt.ylabel('Number of papers')\n",
    "plt.title('Distribution of papers according to publication year')\n",
    "plt.savefig('year_distribution_papers.png', dpi=300, bbox_inches='tight')\n",
    "plt.show()"
   ]
  },
  {
   "cell_type": "code",
   "execution_count": 50,
   "metadata": {},
   "outputs": [
    {
     "data": {
      "image/png": "[encoded data removed]",
      "text/plain": [
       "<matplotlib.figure.Figure at 0x1dede122e80>"
      ]
     },
     "metadata": {},
     "output_type": "display_data"
    }
   ],
   "source": [
    "# Plot for Distribution of papers according to publication year\n",
    "x = list(dic_year_papers.keys())\n",
    "y = list(dic_year_papers.values())\n",
    "plt.bar(x, y)\n",
    "plt.xlabel('Year')\n",
    "plt.ylabel('Number of papers')\n",
    "plt.title('Distribution of papers according to publication year')\n",
    "plt.savefig('year_distribution_papers_bar.png', dpi=300, bbox_inches='tight')\n",
    "plt.show()"
   ]
  },
  {
   "cell_type": "code",
   "execution_count": 51,
   "metadata": {},
   "outputs": [
    {
     "data": {
      "image/png": "[encoded data removed]",
      "text/plain": [
       "<matplotlib.figure.Figure at 0x1dede3c6d68>"
      ]
     },
     "metadata": {},
     "output_type": "display_data"
    }
   ],
   "source": [
    "# Plot for Distribution of Top 100 papers\n",
    "x1 = list(dic_year_dependent.keys())\n",
    "y1 = list(dic_year_dependent.values())\n",
    "x2 = list(dic_year_independent.keys())\n",
    "y2 = list(dic_year_independent.values())\n",
    "\n",
    "plt.plot(x1, y1, 'b', label = 'Page Rank')\n",
    "plt.plot(x2, y2, 'g', label = 'Modified Page Rank')\n",
    "plt.legend(loc='best')\n",
    "plt.xlabel('Year')\n",
    "plt.ylabel('Number of papers')\n",
    "plt.title('Distribution of Top 100 papers')\n",
    "plt.savefig('year_top100_papers.png', dpi=300, bbox_inches='tight')\n",
    "plt.show()"
   ]
  },
  {
   "cell_type": "markdown",
   "metadata": {},
   "source": [
    "### Conference Ranking"
   ]
  },
  {
   "cell_type": "code",
   "execution_count": 85,
   "metadata": {},
   "outputs": [
    {
     "name": "stdout",
     "output_type": "stream",
     "text": [
      "['international conference on human-computer interaction'\n",
      " 'visual analytics science and technology'\n",
      " 'pattern recognition and machine intelligence' ...,\n",
      " 'Journal of Structural Biology'\n",
      " 'Compel-the International Journal for Computation and Mathematics in Electrical and Electronic Engineering'\n",
      " 'IEEE Journal of Selected Topics in Quantum Electronics']\n"
     ]
    }
   ],
   "source": [
    "# unique conferences\n",
    "conferences = df1.venue.unique()\n",
    "print(conferences)"
   ]
  },
  {
   "cell_type": "code",
   "execution_count": 86,
   "metadata": {
    "collapsed": true
   },
   "outputs": [],
   "source": [
    "# dictionary for paper ids, index published in a particular conference (modified page rank)\n",
    "venue = df1[\"venue\"]\n",
    "ids = df1[\"id\"]\n",
    "dic_conferences = {}\n",
    "dic_conferences_paper_index = {}\n",
    "\n",
    "for i in range(len(conferences)):\n",
    "    dic_conferences[conferences[i]] = []\n",
    "    dic_conferences_paper_index[conferences[i]] = []\n",
    "\n",
    "for i in range(len(new_rank2)):\n",
    "    dic_conferences[venue[i]].append(ids[i])\n",
    "    dic_conferences_paper_index[venue[i]].append(i)"
   ]
  },
  {
   "cell_type": "code",
   "execution_count": 87,
   "metadata": {
    "collapsed": true
   },
   "outputs": [],
   "source": [
    "# Calculation of conference scores based on average paper scores (modified page rank)\n",
    "dic_conference_scores = {}\n",
    "for i in range(len(conferences)):\n",
    "    dic_conference_scores[conferences[i]] = 0\n",
    "\n",
    "#conference_paper_scores = []\n",
    "for i in range(len(conferences)):\n",
    "    #conference_paper_scores[i] = sum(dic_conferences[conferences[i]])\n",
    "    total = 0\n",
    "    for j in dic_conferences_paper_index[conferences[i]]:\n",
    "        total += new_rank2[j]\n",
    "    dic_conference_scores[conferences[i]] = dic_conference_scores[conferences[i]] + total/len(dic_conferences[conferences[i]])"
   ]
  },
  {
   "cell_type": "code",
   "execution_count": 88,
   "metadata": {},
   "outputs": [
    {
     "name": "stdout",
     "output_type": "stream",
     "text": [
      " 0.0030448652471887633\n",
      "Gem - International Journal on Geomathematics 0.0027668166591404047\n",
      "Electronic Transactions on Artificial Intelligence 0.006562958258426119\n",
      "Eurasip Journal on Audio, Speech, and Music Processing 0.003114452712980963\n",
      "international conference on application of concurrency to system design 0.0033744199647656116\n",
      "european conference on web services 0.0035458205992892366\n",
      "Computers & Security 0.003526835795869433\n",
      "Foundations of Computational Mathematics 0.00365039806861304\n",
      "Mathematics of Computation 0.0034343826749216183\n",
      "australian joint conference on artificial intelligence 0.003031671361120418\n"
     ]
    }
   ],
   "source": [
    "# Conference score test\n",
    "temp_count = 0\n",
    "for key, value in dic_conference_scores.items():\n",
    "    if temp_count == 10:\n",
    "        break\n",
    "    print(key, value)\n",
    "    temp_count = temp_count + 1"
   ]
  },
  {
   "cell_type": "code",
   "execution_count": 89,
   "metadata": {
    "collapsed": true
   },
   "outputs": [],
   "source": [
    "# dictionary for conference scores\n",
    "max_conference_score = max(list(dic_conference_scores.values()))\n",
    "for i in range(len(conferences)):\n",
    "    dic_conference_scores[conferences[i]] = dic_conference_scores[conferences[i]]/max_conference_score"
   ]
  },
  {
   "cell_type": "code",
   "execution_count": 90,
   "metadata": {},
   "outputs": [
    {
     "name": "stdout",
     "output_type": "stream",
     "text": [
      "Physical Review X 1.0\n",
      "Business Horizons 1.0\n",
      "Advances in Computing Research 0.9959527254271898\n",
      "Notices of the American Mathematical Society 0.977069450685588\n",
      "international conference on learning representations 0.9507665748952754\n",
      "Reviews of Modern Physics 0.9071505811812289\n",
      "Annals of Statistics 0.8526344068273455\n",
      "IEEE Transactions on Systems Science and Cybernetics 0.7038665218441773\n",
      "ACM Transactions on Programming Languages and Systems 0.5338933350643277\n",
      "Management Information Systems Quarterly 0.5303826057474125\n"
     ]
    }
   ],
   "source": [
    "# Top 10 conferences\n",
    "for key in sorted(dic_conference_scores, key=dic_conference_scores.get, reverse=True)[:10]:\n",
    "    print(key, dic_conference_scores[key])"
   ]
  },
  {
   "cell_type": "code",
   "execution_count": 91,
   "metadata": {
    "collapsed": true
   },
   "outputs": [],
   "source": [
    "# List of authors and their papers\n",
    "authors = {}\n",
    "df_authors = list(df1['authors'])\n",
    "\n",
    "for i in range(len(df_authors)):\n",
    "    auths = list(df_authors[i])\n",
    "    for a in auths:\n",
    "        if a in authors:\n",
    "            authors[a].append(i)\n",
    "        else:\n",
    "            authors[a] = [i,]"
   ]
  },
  {
   "cell_type": "code",
   "execution_count": 92,
   "metadata": {},
   "outputs": [
    {
     "name": "stdout",
     "output_type": "stream",
     "text": [
      "['Harald Paulitsch', 'Tuomas Virtanen', 'Diego Klabajan', 'Adin Cristian Andrei', 'Yingguo Hu', 'Donald F. Norris', 'John Abraham', 'Gabriella Pigozzi', 'Kwang Lee', 'Hanyu Li']\n"
     ]
    }
   ],
   "source": [
    "author_names = list(authors.keys())\n",
    "print(author_names[:10])"
   ]
  },
  {
   "cell_type": "code",
   "execution_count": 250,
   "metadata": {
    "collapsed": true
   },
   "outputs": [],
   "source": [
    "# Writing list of authors\n",
    "import csv\n",
    "with open('authors.csv', 'w', newline='', encoding='utf-8') as csvfile:\n",
    "    spamwriter = csv.writer(csvfile)\n",
    "    for i in range(len(author_names)):\n",
    "        spamwriter.writerow([author_names[i]])"
   ]
  },
  {
   "cell_type": "markdown",
   "metadata": {},
   "source": [
    "### Ranking Authors using modified page rank algorithm"
   ]
  },
  {
   "cell_type": "code",
   "execution_count": 93,
   "metadata": {
    "collapsed": true
   },
   "outputs": [],
   "source": [
    "# Scoring of authors (modified page rank)\n",
    "author_score = {}\n",
    "for i in range(len(author_names)):\n",
    "    author_score[author_names[i]] = 0\n",
    "    \n",
    "for i in range(len(authors)):\n",
    "    temp = list(authors[author_names[i]])\n",
    "    total = 0\n",
    "    for j in temp:\n",
    "        total += new_rank2[j]*dic_conference_scores[venue[j]]\n",
    "    author_score[author_names[i]] = total/len(temp)"
   ]
  },
  {
   "cell_type": "code",
   "execution_count": 94,
   "metadata": {
    "collapsed": true
   },
   "outputs": [],
   "source": [
    "# Normalize author scores\n",
    "max_author_score = max(author_score.values())\n",
    "for i in range(len(author_names)):\n",
    "    author_score[author_names[i]] = author_score[author_names[i]]/max_author_score"
   ]
  },
  {
   "cell_type": "code",
   "execution_count": 95,
   "metadata": {},
   "outputs": [
    {
     "name": "stdout",
     "output_type": "stream",
     "text": [
      "Bertram Raphael 1.0\n",
      "Xu Xiaowei 0.5207162415475216\n",
      "Fred D. Davis 0.4734770947719943\n",
      "Peter E. Hart 0.33686285167590846\n",
      "Thomas J. Mccabe 0.33613366719995286\n",
      "Christopher Buckley 0.3337834800667581\n",
      "Leonard M. Adleman 0.31230328666286794\n",
      "Matija Pretnar 0.2993299493643762\n",
      "Rainer Storn 0.2963866812996834\n",
      "Jiirg Sander 0.26394425750512146\n"
     ]
    }
   ],
   "source": [
    "# Top 10 authors according to modified page rank\n",
    "for key in sorted(author_score, key=author_score.get, reverse=True)[:10]:\n",
    "    print(key, author_score[key])"
   ]
  },
  {
   "cell_type": "code",
   "execution_count": 96,
   "metadata": {},
   "outputs": [
    {
     "name": "stdout",
     "output_type": "stream",
     "text": [
      "100\n"
     ]
    }
   ],
   "source": [
    "# Top 100 authors according to modified page rank\n",
    "authors_mpr = []\n",
    "for key in sorted(author_score, key=author_score.get, reverse=True)[:100]:\n",
    "    authors_mpr.append(key)\n",
    "print(len(authors_mpr))"
   ]
  },
  {
   "cell_type": "code",
   "execution_count": 255,
   "metadata": {
    "collapsed": true
   },
   "outputs": [],
   "source": [
    "import csv\n",
    "with open('authors_mpr.csv', 'w', newline='', encoding='utf-8') as csvfile:\n",
    "    spamwriter = csv.writer(csvfile)\n",
    "    for i in range(len(authors_mpr)):\n",
    "        spamwriter.writerow([authors_mpr[i]])"
   ]
  },
  {
   "cell_type": "markdown",
   "metadata": {},
   "source": [
    "### Ranking authors based on different metrics"
   ]
  },
  {
   "cell_type": "code",
   "execution_count": 66,
   "metadata": {
    "collapsed": true
   },
   "outputs": [],
   "source": [
    "#rank authors based on sum citations count\n",
    "\n",
    "#for each row update a dict of all the authors\n",
    "#for each row, check the citations from the inlinks and update for the author\n",
    "def top_authors_sum_citation(df, inlinks):\n",
    "    authors_citations = []\n",
    "    authors = {}\n",
    "    df_authors = list(df['authors'])\n",
    "\n",
    "    for i in range(len(df_authors)):\n",
    "        auths = list(df_authors[i])\n",
    "        for a in auths:\n",
    "            if a in authors:\n",
    "                authors[a] += inlinks[i]\n",
    "            else:\n",
    "                authors[a] = inlinks[i]\n",
    "#     print authors\n",
    "    for key in sorted(authors, key=authors.get, reverse=True)[:100]:\n",
    "        #print(key, authors[key])\n",
    "        authors_citations.append(key)\n",
    "    return authors_citations"
   ]
  },
  {
   "cell_type": "code",
   "execution_count": 67,
   "metadata": {
    "collapsed": true
   },
   "outputs": [],
   "source": [
    "authors_citations = top_authors_sum_citation(df1, in_count)"
   ]
  },
  {
   "cell_type": "code",
   "execution_count": 258,
   "metadata": {
    "collapsed": true
   },
   "outputs": [],
   "source": [
    "# Top 100 authors according to citations\n",
    "with open('authors_citations.csv', 'w', newline='', encoding='utf-8') as csvfile:\n",
    "    spamwriter = csv.writer(csvfile)\n",
    "    for i in range(len(authors_citations)):\n",
    "        spamwriter.writerow([authors_citations[i]])"
   ]
  },
  {
   "cell_type": "code",
   "execution_count": 226,
   "metadata": {},
   "outputs": [
    {
     "name": "stdout",
     "output_type": "stream",
     "text": [
      "4181\n"
     ]
    }
   ],
   "source": [
    "print(max(in_count))"
   ]
  },
  {
   "cell_type": "code",
   "execution_count": 68,
   "metadata": {
    "collapsed": true
   },
   "outputs": [],
   "source": [
    "#rank authors based on number of papers\n",
    "def top_authors_num_papers(df):\n",
    "    authors_papers = []\n",
    "    authors = {}\n",
    "    df_authors = list(df['authors'])\n",
    "    \n",
    "    for i in range(len(df_authors)):\n",
    "        auths = list(df_authors[i])\n",
    "        for a in auths:\n",
    "            if a in authors:\n",
    "                authors[a] += 1\n",
    "            else:\n",
    "                authors[a] = 1\n",
    "    for key in sorted(authors, key=authors.get, reverse=True)[:100]:\n",
    "        #print(key, authors[key])\n",
    "        authors_papers.append(key)\n",
    "    return authors_papers"
   ]
  },
  {
   "cell_type": "code",
   "execution_count": 69,
   "metadata": {
    "collapsed": true
   },
   "outputs": [],
   "source": [
    "authors_papers = top_authors_num_papers(df1)"
   ]
  },
  {
   "cell_type": "code",
   "execution_count": 264,
   "metadata": {
    "collapsed": true
   },
   "outputs": [],
   "source": [
    "# Top 100 authors according to papers\n",
    "with open('authors_papers.csv', 'w', newline='', encoding='utf-8') as csvfile:\n",
    "    spamwriter = csv.writer(csvfile)\n",
    "    for i in range(len(authors_papers)):\n",
    "        spamwriter.writerow([authors_papers[i]])"
   ]
  },
  {
   "cell_type": "code",
   "execution_count": 70,
   "metadata": {
    "collapsed": true
   },
   "outputs": [],
   "source": [
    "# Top Authors based on h-index from our dataset\n",
    "def top_authors_internal_h_index(df, inlinks):\n",
    "    authors_h = []\n",
    "    authors = {}\n",
    "    df_authors = list(df['authors'])\n",
    "    \n",
    "    for i in range(len(df_authors)):\n",
    "        auths = list(df_authors[i])\n",
    "        for a in auths:\n",
    "            if a in authors:\n",
    "                authors[a].append(inlinks[i])\n",
    "            else:\n",
    "                authors[a] = [inlinks[i],]\n",
    "    hindexes = {}\n",
    "    for auth in authors.keys():\n",
    "        hindexes[auth] = hIndex(authors[auth])\n",
    "    for key in sorted(hindexes, key=hindexes.get, reverse=True)[:100]:\n",
    "        #print(key, hindexes[key])\n",
    "        authors_h.append(key)\n",
    "    return authors_h\n",
    "\n",
    "def hIndex(citations):\n",
    "    n = len(citations)\n",
    "    equal_h = [0] * (n+1)\n",
    "    for h in range(n):\n",
    "        if citations[h] >= n: equal_h[n] += 1\n",
    "        else: equal_h[citations[h]] += 1\n",
    "    s = 0\n",
    "    for h in range(n,0, -1):\n",
    "        s += equal_h[h]\n",
    "        if s>=h:\n",
    "            return h\n",
    "    return 0"
   ]
  },
  {
   "cell_type": "code",
   "execution_count": 71,
   "metadata": {
    "collapsed": true
   },
   "outputs": [],
   "source": [
    "authors_h = top_authors_internal_h_index(df1, in_count)"
   ]
  },
  {
   "cell_type": "code",
   "execution_count": 271,
   "metadata": {
    "collapsed": true
   },
   "outputs": [],
   "source": [
    "# Top 100 authors according to h-index\n",
    "with open('authors_h.csv', 'w', newline='', encoding='utf-8') as csvfile:\n",
    "    spamwriter = csv.writer(csvfile)\n",
    "    for i in range(len(authors_h)):\n",
    "        spamwriter.writerow([authors_h[i]])"
   ]
  },
  {
   "cell_type": "code",
   "execution_count": 72,
   "metadata": {
    "collapsed": true
   },
   "outputs": [],
   "source": [
    "# Top Authors based on i10-index from our dataset\n",
    "def top_authors_internal_i10_index(df, inlinks):\n",
    "    authors_i = []\n",
    "    i10_indexes = {}\n",
    "    df_authors = list(df['authors'])\n",
    "    \n",
    "    for i in range(len(df_authors)):\n",
    "        auths = list(df_authors[i])\n",
    "        for a in auths:\n",
    "            if a in i10_indexes:\n",
    "                if inlinks[i] >= 10:\n",
    "                    i10_indexes[a] += 1\n",
    "            else:\n",
    "                if inlinks[i] >= 10:\n",
    "                    i10_indexes[a] = 1\n",
    "                else:\n",
    "                    i10_indexes[a] = 0\n",
    "    for key in sorted(i10_indexes, key=i10_indexes.get, reverse=True)[:100]:\n",
    "        #print(key, i10_indexes[key])\n",
    "        authors_i.append(key)\n",
    "    return authors_i"
   ]
  },
  {
   "cell_type": "code",
   "execution_count": 73,
   "metadata": {
    "collapsed": true
   },
   "outputs": [],
   "source": [
    "authors_i = top_authors_internal_i10_index(df1, in_count)"
   ]
  },
  {
   "cell_type": "code",
   "execution_count": 275,
   "metadata": {
    "collapsed": true
   },
   "outputs": [],
   "source": [
    "# Top 100 authors according to i10-index\n",
    "with open('authors_i.csv', 'w', newline='', encoding='utf-8') as csvfile:\n",
    "    spamwriter = csv.writer(csvfile)\n",
    "    for i in range(len(authors_i)):\n",
    "        spamwriter.writerow([authors_i[i]])"
   ]
  },
  {
   "cell_type": "code",
   "execution_count": 74,
   "metadata": {
    "collapsed": true
   },
   "outputs": [],
   "source": [
    "# Top Authors based on a-index from our dataset\n",
    "# The a index is the average number of citations of an author's papers \n",
    "def top_authors_internal_a_index(df, inlinks):\n",
    "    authors_a = []\n",
    "    df_authors = list(df['authors'])\n",
    "    authors = {}\n",
    "    for i in range(len(df_authors)):\n",
    "        auths = list(df_authors[i])\n",
    "        for a in auths:\n",
    "            if a in authors:\n",
    "                authors[a].append(inlinks[i])\n",
    "            else:\n",
    "                authors[a] = [inlinks[i],]\n",
    "    aindexes = {}\n",
    "    for auth in authors.keys():\n",
    "        aindexes[auth] = aIndex(authors[auth])\n",
    "    for key in sorted(aindexes, key=aindexes.get, reverse=True)[:100]:\n",
    "        #print(key, aindexes[key])\n",
    "        authors_a.append(key)\n",
    "    return authors_a\n",
    "\n",
    "def aIndex(citations):\n",
    "    if len(citations) > 0:\n",
    "        return float(sum(citations))/len(citations)\n",
    "    else:\n",
    "        return 0"
   ]
  },
  {
   "cell_type": "code",
   "execution_count": 75,
   "metadata": {
    "collapsed": true
   },
   "outputs": [],
   "source": [
    "authors_a = top_authors_internal_a_index(df1, in_count)"
   ]
  },
  {
   "cell_type": "code",
   "execution_count": 278,
   "metadata": {
    "collapsed": true
   },
   "outputs": [],
   "source": [
    "# Top 100 authors according to a-index\n",
    "with open('authors_a.csv', 'w', newline='', encoding='utf-8') as csvfile:\n",
    "    spamwriter = csv.writer(csvfile)\n",
    "    for i in range(len(authors_a)):\n",
    "        spamwriter.writerow([authors_a[i]])"
   ]
  },
  {
   "cell_type": "code",
   "execution_count": 76,
   "metadata": {
    "collapsed": true
   },
   "outputs": [],
   "source": [
    "# Top Authors based on m-index from our dataset\n",
    "# The m index is the median of citations of an author's papers \n",
    "def top_authors_internal_m_index(df, inlinks):\n",
    "    df_authors = list(df['authors'])\n",
    "    authors = {}\n",
    "    for i in range(len(df_authors)):\n",
    "        auths = list(df_authors[i])\n",
    "        for a in auths:\n",
    "            if a in authors:\n",
    "                authors[a].append(inlinks[i])\n",
    "            else:\n",
    "                authors[a] = [inlinks[i],]\n",
    "    mindexes = {}\n",
    "    for auth in authors.keys():\n",
    "        mindexes[auth] = mIndex(authors[auth])\n",
    "    for key in sorted(mindexes, key=mindexes.get, reverse=True)[:10]:\n",
    "        print(key, mindexes[key])\n",
    "\n",
    "def mIndex(citations):\n",
    "    if len(citations) > 0:\n",
    "        return float(np.median(citations))\n",
    "    else:\n",
    "        return 0"
   ]
  },
  {
   "cell_type": "code",
   "execution_count": 223,
   "metadata": {},
   "outputs": [
    {
     "name": "stdout",
     "output_type": "stream",
     "text": [
      "Matija Pretnar 936.0\n",
      "Xu Xiaowei 922.0\n",
      "Peter Schwenzer 742.0\n",
      "Mary Ann Marcinkiewicz 613.0\n",
      "Bill Joy 584.0\n",
      "James A. Gosling 584.0\n",
      "Bertram Raphael 579.0\n",
      "Rainer Storn 549.0\n",
      "Christopher Buckley 486.5\n",
      "Mark E. Smith 475.0\n"
     ]
    }
   ],
   "source": [
    "top_authors_internal_m_index(df1, in_count)"
   ]
  },
  {
   "cell_type": "markdown",
   "metadata": {},
   "source": [
    "### Machine Learning"
   ]
  },
  {
   "cell_type": "code",
   "execution_count": 89,
   "metadata": {
    "collapsed": true
   },
   "outputs": [],
   "source": [
    "final_df = pd.DataFrame()"
   ]
  },
  {
   "cell_type": "code",
   "execution_count": 90,
   "metadata": {
    "collapsed": true
   },
   "outputs": [],
   "source": [
    "# Conference feature\n",
    "f_conference = []\n",
    "venue_name = df1['venue']\n",
    "for i in range(len(references)):\n",
    "    f_conference.append(dic_conference_scores[venue_name[i]])"
   ]
  },
  {
   "cell_type": "code",
   "execution_count": 91,
   "metadata": {},
   "outputs": [
    {
     "name": "stdout",
     "output_type": "stream",
     "text": [
      "709207\n"
     ]
    }
   ],
   "source": [
    "print(len(f_conference))"
   ]
  },
  {
   "cell_type": "code",
   "execution_count": 92,
   "metadata": {
    "collapsed": true
   },
   "outputs": [],
   "source": [
    "final_df['conference_score'] = f_conference"
   ]
  },
  {
   "cell_type": "code",
   "execution_count": 93,
   "metadata": {
    "collapsed": true
   },
   "outputs": [],
   "source": [
    "# Number of references feature\n",
    "f_outcount = out_count\n",
    "final_df['number_of_references'] = f_outcount"
   ]
  },
  {
   "cell_type": "code",
   "execution_count": 94,
   "metadata": {
    "collapsed": true
   },
   "outputs": [],
   "source": [
    "# Paper age feature\n",
    "paper_year = df1['year']\n",
    "f_age = []\n",
    "for i in range(len(references)):\n",
    "    f_age.append(2017 - paper_year[i])"
   ]
  },
  {
   "cell_type": "code",
   "execution_count": 95,
   "metadata": {
    "collapsed": true
   },
   "outputs": [],
   "source": [
    "final_df['age'] = f_age"
   ]
  },
  {
   "cell_type": "code",
   "execution_count": 106,
   "metadata": {
    "collapsed": true
   },
   "outputs": [],
   "source": [
    "paper_authors = df1['authors']\n",
    "author_names = list(authors.keys())"
   ]
  },
  {
   "cell_type": "code",
   "execution_count": 107,
   "metadata": {},
   "outputs": [
    {
     "name": "stdout",
     "output_type": "stream",
     "text": [
      "720917\n"
     ]
    }
   ],
   "source": [
    "print(len(author_names))"
   ]
  },
  {
   "cell_type": "code",
   "execution_count": 143,
   "metadata": {
    "collapsed": true
   },
   "outputs": [],
   "source": [
    "# Top Authors based on h-index from our dataset\n",
    "def top_authors_internal_h_index(df, inlinks):\n",
    "    authors_h = []\n",
    "    authors = {}\n",
    "    df_authors = list(df['authors'])\n",
    "    \n",
    "    for i in range(len(df_authors)):\n",
    "        auths = list(df_authors[i])\n",
    "        for a in auths:\n",
    "            if a in authors:\n",
    "                authors[a].append(inlinks[i])\n",
    "            else:\n",
    "                authors[a] = [inlinks[i],]\n",
    "    hindexes = {}\n",
    "    for auth in authors.keys():\n",
    "        hindexes[auth] = hIndex(authors[auth])\n",
    "    for key in sorted(hindexes, key=hindexes.get, reverse=True):\n",
    "        #print(key, hindexes[key])\n",
    "        authors_h.append(hindexes[key])\n",
    "    return authors_h\n",
    "\n",
    "def hIndex(citations):\n",
    "    n = len(citations)\n",
    "    equal_h = [0] * (n+1)\n",
    "    for h in range(n):\n",
    "        if citations[h] >= n: equal_h[n] += 1\n",
    "        else: equal_h[citations[h]] += 1\n",
    "    s = 0\n",
    "    for h in range(n,0, -1):\n",
    "        s += equal_h[h]\n",
    "        if s>=h:\n",
    "            return h\n",
    "    return 0"
   ]
  },
  {
   "cell_type": "code",
   "execution_count": 144,
   "metadata": {
    "collapsed": true
   },
   "outputs": [],
   "source": [
    "authors_h = top_authors_internal_h_index(df1, in_count)"
   ]
  },
  {
   "cell_type": "code",
   "execution_count": 145,
   "metadata": {},
   "outputs": [
    {
     "name": "stdout",
     "output_type": "stream",
     "text": [
      "720917\n"
     ]
    }
   ],
   "source": [
    "print(len(authors_h))"
   ]
  },
  {
   "cell_type": "code",
   "execution_count": 146,
   "metadata": {
    "collapsed": true
   },
   "outputs": [],
   "source": [
    "# author h-index dictionary\n",
    "dic_author_h = {}\n",
    "for i in range(len(author_names)):\n",
    "    dic_author_h[author_names[i]] = authors_h[i]"
   ]
  },
  {
   "cell_type": "code",
   "execution_count": 148,
   "metadata": {
    "collapsed": true
   },
   "outputs": [],
   "source": [
    "f_h_index = []\n",
    "for i in range(len(paper_authors)):\n",
    "    h_sum = 0\n",
    "    h_avg = 0\n",
    "    count = 0\n",
    "    for j in range(len(paper_authors[i])):\n",
    "        try:\n",
    "            h_sum = h_sum + dic_author_h[paper_authors[i][j]]\n",
    "            count = count + 1\n",
    "        except:\n",
    "            print(count)\n",
    "            continue\n",
    "    if count != 0:\n",
    "        h_avg = h_sum/count\n",
    "    f_h_index.append(h_avg)"
   ]
  },
  {
   "cell_type": "code",
   "execution_count": 149,
   "metadata": {},
   "outputs": [
    {
     "name": "stdout",
     "output_type": "stream",
     "text": [
      "[0.625, 1.0, 0.25, 1.5, 0.0, 0.0, 1.6666666666666667, 2.5, 0.0, 1.3333333333333333, 1.0, 2.0, 1.0, 0.5, 0.5, 0.0, 0.75, 0.5, 2.0, 0.6666666666666666, 0.0, 0.3333333333333333, 1.0, 0.3333333333333333, 0.25, 1.6666666666666667, 0.0, 0.0, 0.4, 0.0, 0.5, 0.0, 0.75, 0.0, 0.6666666666666666, 1.0, 0.4, 1.5, 0.0, 1.25, 0.3333333333333333, 0.3333333333333333, 1.5, 1.0, 1.0, 0.5, 1.0, 0.6, 0.75, 0.0, 0.25, 0.3333333333333333, 0.0, 2.0, 0.0, 1.0, 1.0, 1.0, 0.0, 0.5, 1.0, 0.0, 0.5, 1.25, 2.0, 1.0, 0.5, 0.5, 0.2, 1.0, 0.0, 0.6666666666666666, 0.3333333333333333, 3.0, 0.5, 1.0, 0.25, 0.5, 1.0, 0.8, 0.0, 0.75, 1.25, 0.5, 2.0, 0.0, 0.0, 0.0, 1.0, 0.5, 2.3333333333333335, 1.75, 0.0, 1.0, 0.8, 0.0, 0.6666666666666666, 1.0, 0.6666666666666666, 0.6666666666666666]\n"
     ]
    }
   ],
   "source": [
    "print(f_h_index[:100])"
   ]
  },
  {
   "cell_type": "code",
   "execution_count": 159,
   "metadata": {
    "collapsed": true
   },
   "outputs": [],
   "source": [
    "final_df['h_index'] = f_h_index"
   ]
  },
  {
   "cell_type": "code",
   "execution_count": 150,
   "metadata": {
    "collapsed": true
   },
   "outputs": [],
   "source": [
    "# Top Authors based on i10-index from our dataset\n",
    "def top_authors_internal_i10_index(df, inlinks):\n",
    "    authors_i = []\n",
    "    i10_indexes = {}\n",
    "    df_authors = list(df['authors'])\n",
    "    \n",
    "    for i in range(len(df_authors)):\n",
    "        auths = list(df_authors[i])\n",
    "        for a in auths:\n",
    "            if a in i10_indexes:\n",
    "                if inlinks[i] >= 10:\n",
    "                    i10_indexes[a] += 1\n",
    "            else:\n",
    "                if inlinks[i] >= 10:\n",
    "                    i10_indexes[a] = 1\n",
    "                else:\n",
    "                    i10_indexes[a] = 0\n",
    "    for key in sorted(i10_indexes, key=i10_indexes.get, reverse=True):\n",
    "        #print(key, i10_indexes[key])\n",
    "        authors_i.append(i10_indexes[key])\n",
    "    return authors_i"
   ]
  },
  {
   "cell_type": "code",
   "execution_count": 151,
   "metadata": {
    "collapsed": true
   },
   "outputs": [],
   "source": [
    "authors_i = top_authors_internal_i10_index(df1, in_count)"
   ]
  },
  {
   "cell_type": "code",
   "execution_count": 152,
   "metadata": {
    "collapsed": true
   },
   "outputs": [],
   "source": [
    "# author i-index dictionary\n",
    "dic_author_i = {}\n",
    "for i in range(len(author_names)):\n",
    "    dic_author_i[author_names[i]] = authors_i[i]"
   ]
  },
  {
   "cell_type": "code",
   "execution_count": 153,
   "metadata": {
    "collapsed": true
   },
   "outputs": [],
   "source": [
    "f_i_index = []\n",
    "for i in range(len(paper_authors)):\n",
    "    i_sum = 0\n",
    "    i_avg = 0\n",
    "    count = 0\n",
    "    for j in range(len(paper_authors[i])):\n",
    "        try:\n",
    "            i_sum = i_sum + dic_author_i[paper_authors[i][j]]\n",
    "            count = count + 1\n",
    "        except:\n",
    "            continue\n",
    "    if count != 0:\n",
    "        i_avg = i_sum/count\n",
    "    f_i_index.append(i_avg)"
   ]
  },
  {
   "cell_type": "code",
   "execution_count": 154,
   "metadata": {
    "collapsed": true
   },
   "outputs": [],
   "source": [
    "final_df['i_index'] = f_i_index"
   ]
  },
  {
   "cell_type": "code",
   "execution_count": 155,
   "metadata": {
    "collapsed": true
   },
   "outputs": [],
   "source": [
    "f_author_rank = []\n",
    "for i in range(len(paper_authors)):\n",
    "    rank_sum = 0\n",
    "    rank_avg = 0\n",
    "    count = 0\n",
    "    for j in range(len(paper_authors[i])):\n",
    "        try:\n",
    "            rank_sum = rank_sum + author_score[paper_authors[i][j]]\n",
    "            count = count + 1\n",
    "        except:\n",
    "            continue\n",
    "    if count != 0:\n",
    "        rank_avg = rank_sum/count\n",
    "    f_author_rank.append(rank_avg)"
   ]
  },
  {
   "cell_type": "code",
   "execution_count": 156,
   "metadata": {
    "collapsed": true
   },
   "outputs": [],
   "source": [
    "final_df['author_rank'] = f_author_rank"
   ]
  },
  {
   "cell_type": "code",
   "execution_count": 157,
   "metadata": {
    "collapsed": true
   },
   "outputs": [],
   "source": [
    "# Modified page rank used as y (target)\n",
    "f_rank = new_rank2\n",
    "final_df['rank'] = f_rank"
   ]
  },
  {
   "cell_type": "code",
   "execution_count": 98,
   "metadata": {
    "collapsed": true
   },
   "outputs": [],
   "source": [
    "df_topic = pd.read_csv('topics.csv', sep='\\t', encoding='utf-8')"
   ]
  },
  {
   "cell_type": "code",
   "execution_count": 99,
   "metadata": {},
   "outputs": [
    {
     "data": {
      "text/html": [
       "<div>\n",
       "<style>\n",
       "    .dataframe thead tr:only-child th {\n",
       "        text-align: right;\n",
       "    }\n",
       "\n",
       "    .dataframe thead th {\n",
       "        text-align: left;\n",
       "    }\n",
       "\n",
       "    .dataframe tbody tr th {\n",
       "        vertical-align: top;\n",
       "    }\n",
       "</style>\n",
       "<table border=\"1\" class=\"dataframe\">\n",
       "  <thead>\n",
       "    <tr style=\"text-align: right;\">\n",
       "      <th></th>\n",
       "      <th>Unnamed: 0</th>\n",
       "      <th>abstract</th>\n",
       "      <th>authors</th>\n",
       "      <th>id</th>\n",
       "      <th>n_citation</th>\n",
       "      <th>references</th>\n",
       "      <th>title</th>\n",
       "      <th>venue</th>\n",
       "      <th>year</th>\n",
       "      <th>topic</th>\n",
       "    </tr>\n",
       "  </thead>\n",
       "  <tbody>\n",
       "    <tr>\n",
       "      <th>0</th>\n",
       "      <td>0</td>\n",
       "      <td>The purpose of this study is to develop a lear...</td>\n",
       "      <td>[Makoto Satoh, Ryo Muramatsu, Mizue Kayama, Ka...</td>\n",
       "      <td>00127ee2-cb05-48ce-bc49-9de556b93346</td>\n",
       "      <td>0</td>\n",
       "      <td>[51c7e02e-f5ed-431a-8cf5-f761f266d4be, 69b625b...</td>\n",
       "      <td>Preliminary Design of a Network Protocol Learn...</td>\n",
       "      <td>international conference on human-computer int...</td>\n",
       "      <td>2013</td>\n",
       "      <td>4</td>\n",
       "    </tr>\n",
       "    <tr>\n",
       "      <th>1</th>\n",
       "      <td>1</td>\n",
       "      <td>This paper describes the design and implementa...</td>\n",
       "      <td>[Gareth Beale, Graeme Earl]</td>\n",
       "      <td>001c58d3-26ad-46b3-ab3a-c1e557d16821</td>\n",
       "      <td>50</td>\n",
       "      <td>[10482dd3-4642-4193-842f-85f3b70fcf65, 3133714...</td>\n",
       "      <td>A methodology for the physically accurate visu...</td>\n",
       "      <td>visual analytics science and technology</td>\n",
       "      <td>2011</td>\n",
       "      <td>5</td>\n",
       "    </tr>\n",
       "    <tr>\n",
       "      <th>2</th>\n",
       "      <td>2</td>\n",
       "      <td>This article applied GARCH model instead AR or...</td>\n",
       "      <td>[Altaf Hossain, Faisal Zaman, Mohammed Nasser,...</td>\n",
       "      <td>001c8744-73c4-4b04-9364-22d31a10dbf1</td>\n",
       "      <td>50</td>\n",
       "      <td>[2d84c0f2-e656-4ce7-b018-90eda1c132fe, a083a1b...</td>\n",
       "      <td>Comparison of GARCH, Neural Network and Suppor...</td>\n",
       "      <td>pattern recognition and machine intelligence</td>\n",
       "      <td>2009</td>\n",
       "      <td>4</td>\n",
       "    </tr>\n",
       "    <tr>\n",
       "      <th>3</th>\n",
       "      <td>3</td>\n",
       "      <td>Recent achievements in Natural Language Proces...</td>\n",
       "      <td>[Ankita Brahmachari, Priya Singh, Avdhesh Garg...</td>\n",
       "      <td>00a119c4-d367-4607-b3c8-b237f2971bff</td>\n",
       "      <td>0</td>\n",
       "      <td>[84d47128-58d0-4187-aa44-389fde7d5c83, e0dce69...</td>\n",
       "      <td>Identifying Psychological Theme Words from Emo...</td>\n",
       "      <td>NaN</td>\n",
       "      <td>2013</td>\n",
       "      <td>0</td>\n",
       "    </tr>\n",
       "    <tr>\n",
       "      <th>4</th>\n",
       "      <td>4</td>\n",
       "      <td>Recently, Bridges and Reich introduced the con...</td>\n",
       "      <td>[Alvaro L. Islas, Constance M. Schober]</td>\n",
       "      <td>00bcf2d5-1592-46b0-81fd-933f90b5ecca</td>\n",
       "      <td>50</td>\n",
       "      <td>[]</td>\n",
       "      <td>Multisymplectic Spectral Methods for the Gross...</td>\n",
       "      <td>international conference on conceptual structures</td>\n",
       "      <td>2002</td>\n",
       "      <td>1</td>\n",
       "    </tr>\n",
       "  </tbody>\n",
       "</table>\n",
       "</div>"
      ],
      "text/plain": [
       "   Unnamed: 0                                           abstract  \\\n",
       "0           0  The purpose of this study is to develop a lear...   \n",
       "1           1  This paper describes the design and implementa...   \n",
       "2           2  This article applied GARCH model instead AR or...   \n",
       "3           3  Recent achievements in Natural Language Proces...   \n",
       "4           4  Recently, Bridges and Reich introduced the con...   \n",
       "\n",
       "                                             authors  \\\n",
       "0  [Makoto Satoh, Ryo Muramatsu, Mizue Kayama, Ka...   \n",
       "1                        [Gareth Beale, Graeme Earl]   \n",
       "2  [Altaf Hossain, Faisal Zaman, Mohammed Nasser,...   \n",
       "3  [Ankita Brahmachari, Priya Singh, Avdhesh Garg...   \n",
       "4            [Alvaro L. Islas, Constance M. Schober]   \n",
       "\n",
       "                                     id  n_citation  \\\n",
       "0  00127ee2-cb05-48ce-bc49-9de556b93346           0   \n",
       "1  001c58d3-26ad-46b3-ab3a-c1e557d16821          50   \n",
       "2  001c8744-73c4-4b04-9364-22d31a10dbf1          50   \n",
       "3  00a119c4-d367-4607-b3c8-b237f2971bff           0   \n",
       "4  00bcf2d5-1592-46b0-81fd-933f90b5ecca          50   \n",
       "\n",
       "                                          references  \\\n",
       "0  [51c7e02e-f5ed-431a-8cf5-f761f266d4be, 69b625b...   \n",
       "1  [10482dd3-4642-4193-842f-85f3b70fcf65, 3133714...   \n",
       "2  [2d84c0f2-e656-4ce7-b018-90eda1c132fe, a083a1b...   \n",
       "3  [84d47128-58d0-4187-aa44-389fde7d5c83, e0dce69...   \n",
       "4                                                 []   \n",
       "\n",
       "                                               title  \\\n",
       "0  Preliminary Design of a Network Protocol Learn...   \n",
       "1  A methodology for the physically accurate visu...   \n",
       "2  Comparison of GARCH, Neural Network and Suppor...   \n",
       "3  Identifying Psychological Theme Words from Emo...   \n",
       "4  Multisymplectic Spectral Methods for the Gross...   \n",
       "\n",
       "                                               venue  year  topic  \n",
       "0  international conference on human-computer int...  2013      4  \n",
       "1            visual analytics science and technology  2011      5  \n",
       "2       pattern recognition and machine intelligence  2009      4  \n",
       "3                                                NaN  2013      0  \n",
       "4  international conference on conceptual structures  2002      1  "
      ]
     },
     "execution_count": 99,
     "metadata": {},
     "output_type": "execute_result"
    }
   ],
   "source": [
    "df_topic.head()"
   ]
  },
  {
   "cell_type": "code",
   "execution_count": 100,
   "metadata": {
    "collapsed": true
   },
   "outputs": [],
   "source": [
    "f_topic = df_topic['topic']"
   ]
  },
  {
   "cell_type": "code",
   "execution_count": 168,
   "metadata": {
    "collapsed": true
   },
   "outputs": [],
   "source": [
    "final_df['topic'] = f_topic"
   ]
  },
  {
   "cell_type": "code",
   "execution_count": 177,
   "metadata": {},
   "outputs": [
    {
     "name": "stdout",
     "output_type": "stream",
     "text": [
      "0.00256080940744\n"
     ]
    }
   ],
   "source": [
    "import lightgbm as lgb\n",
    "from sklearn import model_selection, preprocessing, metrics\n",
    "from sklearn.model_selection import train_test_split\n",
    "\n",
    "cols = ['conference_score', 'number_of_references','age','h_index','i_index','author_rank','topic']\n",
    "X = final_df[cols]\n",
    "Y = final_df['rank']\n",
    "X_train, X_test, Y_train, Y_test = train_test_split(X, Y, test_size=0.2)\n",
    "model_lgb = lgb.LGBMRegressor(objective='regression', njobs=7, n_estimators=100, learning_rate=0.03, sub_sample=0.75, max_depth=6)\n",
    "model_lgb.fit(X_train, Y_train)\n",
    "predictions = model_lgb.predict(X_test)\n",
    "rmse = np.sqrt(metrics.mean_squared_error(predictions, Y_test))\n",
    "print(rmse)"
   ]
  },
  {
   "cell_type": "code",
   "execution_count": 178,
   "metadata": {},
   "outputs": [
    {
     "name": "stderr",
     "output_type": "stream",
     "text": [
      "C:\\ProgramData\\Anaconda3\\lib\\site-packages\\sklearn\\ensemble\\forest.py:248: FutureWarning: The default value of n_estimators will change from 10 in version 0.20 to 100 in 0.22.\n",
      "  \"10 in version 0.20 to 100 in 0.22.\", FutureWarning)\n"
     ]
    },
    {
     "name": "stdout",
     "output_type": "stream",
     "text": [
      "0.0025351782047\n"
     ]
    }
   ],
   "source": [
    "from sklearn.ensemble import RandomForestRegressor\n",
    "\n",
    "model_rf = RandomForestRegressor()\n",
    "model_rf.fit(X_train, Y_train)\n",
    "predictions = model_rf.predict(X_test)\n",
    "rmse = np.sqrt(metrics.mean_squared_error(predictions, Y_test))\n",
    "print(rmse)"
   ]
  },
  {
   "cell_type": "code",
   "execution_count": 182,
   "metadata": {
    "collapsed": true
   },
   "outputs": [],
   "source": [
    "ml = []\n",
    "for index, row in final_df.iterrows():\n",
    "    if row['topic'] == 4:\n",
    "        ml.append(list(row))"
   ]
  },
  {
   "cell_type": "code",
   "execution_count": 183,
   "metadata": {},
   "outputs": [
    {
     "name": "stdout",
     "output_type": "stream",
     "text": [
      "[[0.15103410865294453, 2.0, 4.0, 0.625, 0.0, 0.0019501374631899907, 0.0027668166591404047, 4.0], [0.14761382918904245, 2.0, 8.0, 0.25, 0.0, 0.0018946732806625279, 0.0027668166591404047, 4.0], [0.15558850350441017, 13.0, 13.0, 1.3333333333333333, 0.33333333333333331, 0.0025361032101546828, 0.003839883940668024, 4.0], [0.14531792118239559, 7.0, 4.0, 0.33333333333333331, 0.0, 0.0023223274461033855, 0.0027668166591404047, 4.0], [0.15558850350441017, 7.0, 6.0, 0.0, 0.0, 0.0042388531742386954, 0.0028504108855984143, 4.0], [0.15558850350441017, 7.0, 4.0, 0.5, 0.0, 0.0024364885304510799, 0.0027668166591404047, 4.0], [0.17610034043609588, 18.0, 3.0, 0.75, 0.25, 0.00244449768476904, 0.003560204442947443, 4.0], [0.14905488749115597, 9.0, 5.0, 0.66666666666666663, 0.33333333333333331, 0.0021386483134695042, 0.0030006748145351677, 4.0], [0.15558850350441017, 3.0, 9.0, 0.40000000000000002, 0.0, 0.0019735627513947761, 0.0027668166591404047, 4.0], [0.15216747822618293, 11.0, 3.0, 1.5, 0.25, 0.0023369730191302941, 0.0027668166591404047, 4.0]]\n"
     ]
    }
   ],
   "source": [
    "print(ml[:10])"
   ]
  },
  {
   "cell_type": "markdown",
   "metadata": {},
   "source": [
    "### Time Series Analysis"
   ]
  },
  {
   "cell_type": "code",
   "execution_count": 101,
   "metadata": {
    "collapsed": true
   },
   "outputs": [],
   "source": [
    "df1['topic'] = f_topic"
   ]
  },
  {
   "cell_type": "code",
   "execution_count": 102,
   "metadata": {},
   "outputs": [
    {
     "data": {
      "text/html": [
       "<div>\n",
       "<style>\n",
       "    .dataframe thead tr:only-child th {\n",
       "        text-align: right;\n",
       "    }\n",
       "\n",
       "    .dataframe thead th {\n",
       "        text-align: left;\n",
       "    }\n",
       "\n",
       "    .dataframe tbody tr th {\n",
       "        vertical-align: top;\n",
       "    }\n",
       "</style>\n",
       "<table border=\"1\" class=\"dataframe\">\n",
       "  <thead>\n",
       "    <tr style=\"text-align: right;\">\n",
       "      <th></th>\n",
       "      <th>abstract</th>\n",
       "      <th>authors</th>\n",
       "      <th>id</th>\n",
       "      <th>n_citation</th>\n",
       "      <th>references</th>\n",
       "      <th>title</th>\n",
       "      <th>venue</th>\n",
       "      <th>year</th>\n",
       "      <th>topic</th>\n",
       "    </tr>\n",
       "  </thead>\n",
       "  <tbody>\n",
       "    <tr>\n",
       "      <th>0</th>\n",
       "      <td>The purpose of this study is to develop a lear...</td>\n",
       "      <td>[Makoto Satoh, Ryo Muramatsu, Mizue Kayama, Ka...</td>\n",
       "      <td>00127ee2-cb05-48ce-bc49-9de556b93346</td>\n",
       "      <td>0</td>\n",
       "      <td>[51c7e02e-f5ed-431a-8cf5-f761f266d4be, 69b625b...</td>\n",
       "      <td>Preliminary Design of a Network Protocol Learn...</td>\n",
       "      <td>international conference on human-computer int...</td>\n",
       "      <td>2013</td>\n",
       "      <td>4</td>\n",
       "    </tr>\n",
       "    <tr>\n",
       "      <th>1</th>\n",
       "      <td>This paper describes the design and implementa...</td>\n",
       "      <td>[Gareth Beale, Graeme Earl]</td>\n",
       "      <td>001c58d3-26ad-46b3-ab3a-c1e557d16821</td>\n",
       "      <td>50</td>\n",
       "      <td>[10482dd3-4642-4193-842f-85f3b70fcf65, 3133714...</td>\n",
       "      <td>A methodology for the physically accurate visu...</td>\n",
       "      <td>visual analytics science and technology</td>\n",
       "      <td>2011</td>\n",
       "      <td>5</td>\n",
       "    </tr>\n",
       "    <tr>\n",
       "      <th>2</th>\n",
       "      <td>This article applied GARCH model instead AR or...</td>\n",
       "      <td>[Altaf Hossain, Faisal Zaman, Mohammed Nasser,...</td>\n",
       "      <td>001c8744-73c4-4b04-9364-22d31a10dbf1</td>\n",
       "      <td>50</td>\n",
       "      <td>[2d84c0f2-e656-4ce7-b018-90eda1c132fe, a083a1b...</td>\n",
       "      <td>Comparison of GARCH, Neural Network and Suppor...</td>\n",
       "      <td>pattern recognition and machine intelligence</td>\n",
       "      <td>2009</td>\n",
       "      <td>4</td>\n",
       "    </tr>\n",
       "    <tr>\n",
       "      <th>3</th>\n",
       "      <td>Recent achievements in Natural Language Proces...</td>\n",
       "      <td>[Ankita Brahmachari, Priya Singh, Avdhesh Garg...</td>\n",
       "      <td>00a119c4-d367-4607-b3c8-b237f2971bff</td>\n",
       "      <td>0</td>\n",
       "      <td>[84d47128-58d0-4187-aa44-389fde7d5c83, e0dce69...</td>\n",
       "      <td>Identifying Psychological Theme Words from Emo...</td>\n",
       "      <td></td>\n",
       "      <td>2013</td>\n",
       "      <td>0</td>\n",
       "    </tr>\n",
       "    <tr>\n",
       "      <th>4</th>\n",
       "      <td>Recently, Bridges and Reich introduced the con...</td>\n",
       "      <td>[Alvaro L. Islas, Constance M. Schober]</td>\n",
       "      <td>00bcf2d5-1592-46b0-81fd-933f90b5ecca</td>\n",
       "      <td>50</td>\n",
       "      <td>[]</td>\n",
       "      <td>Multisymplectic Spectral Methods for the Gross...</td>\n",
       "      <td>international conference on conceptual structures</td>\n",
       "      <td>2002</td>\n",
       "      <td>1</td>\n",
       "    </tr>\n",
       "  </tbody>\n",
       "</table>\n",
       "</div>"
      ],
      "text/plain": [
       "                                            abstract  \\\n",
       "0  The purpose of this study is to develop a lear...   \n",
       "1  This paper describes the design and implementa...   \n",
       "2  This article applied GARCH model instead AR or...   \n",
       "3  Recent achievements in Natural Language Proces...   \n",
       "4  Recently, Bridges and Reich introduced the con...   \n",
       "\n",
       "                                             authors  \\\n",
       "0  [Makoto Satoh, Ryo Muramatsu, Mizue Kayama, Ka...   \n",
       "1                        [Gareth Beale, Graeme Earl]   \n",
       "2  [Altaf Hossain, Faisal Zaman, Mohammed Nasser,...   \n",
       "3  [Ankita Brahmachari, Priya Singh, Avdhesh Garg...   \n",
       "4            [Alvaro L. Islas, Constance M. Schober]   \n",
       "\n",
       "                                     id  n_citation  \\\n",
       "0  00127ee2-cb05-48ce-bc49-9de556b93346           0   \n",
       "1  001c58d3-26ad-46b3-ab3a-c1e557d16821          50   \n",
       "2  001c8744-73c4-4b04-9364-22d31a10dbf1          50   \n",
       "3  00a119c4-d367-4607-b3c8-b237f2971bff           0   \n",
       "4  00bcf2d5-1592-46b0-81fd-933f90b5ecca          50   \n",
       "\n",
       "                                          references  \\\n",
       "0  [51c7e02e-f5ed-431a-8cf5-f761f266d4be, 69b625b...   \n",
       "1  [10482dd3-4642-4193-842f-85f3b70fcf65, 3133714...   \n",
       "2  [2d84c0f2-e656-4ce7-b018-90eda1c132fe, a083a1b...   \n",
       "3  [84d47128-58d0-4187-aa44-389fde7d5c83, e0dce69...   \n",
       "4                                                 []   \n",
       "\n",
       "                                               title  \\\n",
       "0  Preliminary Design of a Network Protocol Learn...   \n",
       "1  A methodology for the physically accurate visu...   \n",
       "2  Comparison of GARCH, Neural Network and Suppor...   \n",
       "3  Identifying Psychological Theme Words from Emo...   \n",
       "4  Multisymplectic Spectral Methods for the Gross...   \n",
       "\n",
       "                                               venue  year  topic  \n",
       "0  international conference on human-computer int...  2013      4  \n",
       "1            visual analytics science and technology  2011      5  \n",
       "2       pattern recognition and machine intelligence  2009      4  \n",
       "3                                                     2013      0  \n",
       "4  international conference on conceptual structures  2002      1  "
      ]
     },
     "execution_count": 102,
     "metadata": {},
     "output_type": "execute_result"
    }
   ],
   "source": [
    "df1.head()"
   ]
  },
  {
   "cell_type": "code",
   "execution_count": 104,
   "metadata": {
    "collapsed": true
   },
   "outputs": [],
   "source": [
    "df2 = df1[df1['topic'] == 4]"
   ]
  },
  {
   "cell_type": "code",
   "execution_count": 105,
   "metadata": {},
   "outputs": [
    {
     "data": {
      "text/html": [
       "<div>\n",
       "<style>\n",
       "    .dataframe thead tr:only-child th {\n",
       "        text-align: right;\n",
       "    }\n",
       "\n",
       "    .dataframe thead th {\n",
       "        text-align: left;\n",
       "    }\n",
       "\n",
       "    .dataframe tbody tr th {\n",
       "        vertical-align: top;\n",
       "    }\n",
       "</style>\n",
       "<table border=\"1\" class=\"dataframe\">\n",
       "  <thead>\n",
       "    <tr style=\"text-align: right;\">\n",
       "      <th></th>\n",
       "      <th>abstract</th>\n",
       "      <th>authors</th>\n",
       "      <th>id</th>\n",
       "      <th>n_citation</th>\n",
       "      <th>references</th>\n",
       "      <th>title</th>\n",
       "      <th>venue</th>\n",
       "      <th>year</th>\n",
       "      <th>topic</th>\n",
       "    </tr>\n",
       "  </thead>\n",
       "  <tbody>\n",
       "    <tr>\n",
       "      <th>0</th>\n",
       "      <td>The purpose of this study is to develop a lear...</td>\n",
       "      <td>[Makoto Satoh, Ryo Muramatsu, Mizue Kayama, Ka...</td>\n",
       "      <td>00127ee2-cb05-48ce-bc49-9de556b93346</td>\n",
       "      <td>0</td>\n",
       "      <td>[51c7e02e-f5ed-431a-8cf5-f761f266d4be, 69b625b...</td>\n",
       "      <td>Preliminary Design of a Network Protocol Learn...</td>\n",
       "      <td>international conference on human-computer int...</td>\n",
       "      <td>2013</td>\n",
       "      <td>4</td>\n",
       "    </tr>\n",
       "    <tr>\n",
       "      <th>2</th>\n",
       "      <td>This article applied GARCH model instead AR or...</td>\n",
       "      <td>[Altaf Hossain, Faisal Zaman, Mohammed Nasser,...</td>\n",
       "      <td>001c8744-73c4-4b04-9364-22d31a10dbf1</td>\n",
       "      <td>50</td>\n",
       "      <td>[2d84c0f2-e656-4ce7-b018-90eda1c132fe, a083a1b...</td>\n",
       "      <td>Comparison of GARCH, Neural Network and Suppor...</td>\n",
       "      <td>pattern recognition and machine intelligence</td>\n",
       "      <td>2009</td>\n",
       "      <td>4</td>\n",
       "    </tr>\n",
       "    <tr>\n",
       "      <th>9</th>\n",
       "      <td>Previous language modeling approaches to infor...</td>\n",
       "      <td>[Carmen Fernández-Daza Álvarez, Philippe Langl...</td>\n",
       "      <td>012b88ae-a763-45d6-8f19-2ec9ff739d5f</td>\n",
       "      <td>50</td>\n",
       "      <td>[00515e82-3da6-497a-83d3-459e93247123, 0cd820e...</td>\n",
       "      <td>Word pairs in language modeling for informatio...</td>\n",
       "      <td></td>\n",
       "      <td>2004</td>\n",
       "      <td>4</td>\n",
       "    </tr>\n",
       "    <tr>\n",
       "      <th>23</th>\n",
       "      <td>In recent years, several advanced methods for ...</td>\n",
       "      <td>[Qingxiao Guan, Jing Dong, Tieniu Tan]</td>\n",
       "      <td>0440e3ec-6f52-4cd4-8d97-bc25440a233e</td>\n",
       "      <td>1</td>\n",
       "      <td>[24f4d12f-46d3-48c3-873f-353c99b0f939, 7cf849c...</td>\n",
       "      <td>Two notes from experimental study on image ste...</td>\n",
       "      <td>international conference on intelligent computing</td>\n",
       "      <td>2013</td>\n",
       "      <td>4</td>\n",
       "    </tr>\n",
       "    <tr>\n",
       "      <th>29</th>\n",
       "      <td>Entailment pairs are sentence pairs of a premi...</td>\n",
       "      <td>[Manaal Faruqui, Sebastian Padó]</td>\n",
       "      <td>05e535a9-2021-4393-a19e-6a0277034323</td>\n",
       "      <td>3</td>\n",
       "      <td>[484d1994-e9da-477d-9be2-1f1e154cd919, 68453f2...</td>\n",
       "      <td>Acquiring entailment pairs across languages an...</td>\n",
       "      <td></td>\n",
       "      <td>2011</td>\n",
       "      <td>4</td>\n",
       "    </tr>\n",
       "  </tbody>\n",
       "</table>\n",
       "</div>"
      ],
      "text/plain": [
       "                                             abstract  \\\n",
       "0   The purpose of this study is to develop a lear...   \n",
       "2   This article applied GARCH model instead AR or...   \n",
       "9   Previous language modeling approaches to infor...   \n",
       "23  In recent years, several advanced methods for ...   \n",
       "29  Entailment pairs are sentence pairs of a premi...   \n",
       "\n",
       "                                              authors  \\\n",
       "0   [Makoto Satoh, Ryo Muramatsu, Mizue Kayama, Ka...   \n",
       "2   [Altaf Hossain, Faisal Zaman, Mohammed Nasser,...   \n",
       "9   [Carmen Fernández-Daza Álvarez, Philippe Langl...   \n",
       "23             [Qingxiao Guan, Jing Dong, Tieniu Tan]   \n",
       "29                   [Manaal Faruqui, Sebastian Padó]   \n",
       "\n",
       "                                      id  n_citation  \\\n",
       "0   00127ee2-cb05-48ce-bc49-9de556b93346           0   \n",
       "2   001c8744-73c4-4b04-9364-22d31a10dbf1          50   \n",
       "9   012b88ae-a763-45d6-8f19-2ec9ff739d5f          50   \n",
       "23  0440e3ec-6f52-4cd4-8d97-bc25440a233e           1   \n",
       "29  05e535a9-2021-4393-a19e-6a0277034323           3   \n",
       "\n",
       "                                           references  \\\n",
       "0   [51c7e02e-f5ed-431a-8cf5-f761f266d4be, 69b625b...   \n",
       "2   [2d84c0f2-e656-4ce7-b018-90eda1c132fe, a083a1b...   \n",
       "9   [00515e82-3da6-497a-83d3-459e93247123, 0cd820e...   \n",
       "23  [24f4d12f-46d3-48c3-873f-353c99b0f939, 7cf849c...   \n",
       "29  [484d1994-e9da-477d-9be2-1f1e154cd919, 68453f2...   \n",
       "\n",
       "                                                title  \\\n",
       "0   Preliminary Design of a Network Protocol Learn...   \n",
       "2   Comparison of GARCH, Neural Network and Suppor...   \n",
       "9   Word pairs in language modeling for informatio...   \n",
       "23  Two notes from experimental study on image ste...   \n",
       "29  Acquiring entailment pairs across languages an...   \n",
       "\n",
       "                                                venue  year  topic  \n",
       "0   international conference on human-computer int...  2013      4  \n",
       "2        pattern recognition and machine intelligence  2009      4  \n",
       "9                                                      2004      4  \n",
       "23  international conference on intelligent computing  2013      4  \n",
       "29                                                     2011      4  "
      ]
     },
     "execution_count": 105,
     "metadata": {},
     "output_type": "execute_result"
    }
   ],
   "source": [
    "df2.head()"
   ]
  },
  {
   "cell_type": "code",
   "execution_count": 106,
   "metadata": {
    "collapsed": true
   },
   "outputs": [],
   "source": [
    "paper_index = []\n",
    "for index, row in df2.iterrows():\n",
    "    paper_index.append(index)"
   ]
  },
  {
   "cell_type": "code",
   "execution_count": 107,
   "metadata": {},
   "outputs": [
    {
     "name": "stdout",
     "output_type": "stream",
     "text": [
      "111872\n"
     ]
    }
   ],
   "source": [
    "print(len(paper_index))"
   ]
  },
  {
   "cell_type": "code",
   "execution_count": 108,
   "metadata": {
    "collapsed": true
   },
   "outputs": [],
   "source": [
    "year = df1['year']\n",
    "paper_ids = df1['id']\n",
    "dic_paper_year = {}\n",
    "for i in range(len(paper_index)):\n",
    "    dic_paper_year[paper_index[i]] = year[paper_index[i]]"
   ]
  },
  {
   "cell_type": "code",
   "execution_count": 109,
   "metadata": {},
   "outputs": [
    {
     "name": "stdout",
     "output_type": "stream",
     "text": [
      "0 2013\n",
      "2 2009\n",
      "262151 2007\n",
      "9 2004\n",
      "262146 2003\n",
      "262159 2004\n",
      "262162 1999\n",
      "567982 2012\n",
      "23 2013\n",
      "262172 2013\n"
     ]
    }
   ],
   "source": [
    "temp_count = 0\n",
    "for key, value in dic_paper_year.items():\n",
    "    if temp_count == 10:\n",
    "        break\n",
    "    print(key, value)\n",
    "    temp_count = temp_count + 1"
   ]
  },
  {
   "cell_type": "code",
   "execution_count": 110,
   "metadata": {
    "collapsed": true
   },
   "outputs": [],
   "source": [
    "dic_paper_outcount = {}\n",
    "for i in range(len(paper_index)):\n",
    "    dic_paper_outcount[paper_index[i]] = out_count[paper_index[i]]"
   ]
  },
  {
   "cell_type": "code",
   "execution_count": 111,
   "metadata": {
    "collapsed": true
   },
   "outputs": [],
   "source": [
    "dic_year_score = {}\n",
    "for i in range(min_year, max_year+1):\n",
    "    dic_year_score[i] = 0\n",
    "    \n",
    "dic_year_count = {}\n",
    "for i in range(min_year, max_year+1):\n",
    "    dic_year_count[i] = 0"
   ]
  },
  {
   "cell_type": "code",
   "execution_count": 112,
   "metadata": {
    "collapsed": true
   },
   "outputs": [],
   "source": [
    "for i in range(len(paper_index)):\n",
    "    paper_inlinks = inlinks[paper_index[i]]\n",
    "    #print(paper_inlinks)\n",
    "    for j in paper_inlinks:\n",
    "        try:\n",
    "            dic_year_count[dic_paper_year[j]] = dic_year_count[dic_paper_year[j]] + 1\n",
    "            dic_year_score[dic_paper_year[j]] = dic_year_score[dic_paper_year[j]] + new_rank2[paper_index[j]]/dic_paper_outcount[j]\n",
    "        except:\n",
    "            continue"
   ]
  },
  {
   "cell_type": "code",
   "execution_count": 113,
   "metadata": {
    "collapsed": true
   },
   "outputs": [],
   "source": [
    "year_x = []\n",
    "score_y = []\n",
    "temp = 0\n",
    "for i in range(min_year, max_year+1):\n",
    "    if dic_year_count[i] != 0:\n",
    "        year_x.append(i)\n",
    "        temp = temp + dic_year_score[i]\n",
    "        score_y.append(temp)"
   ]
  },
  {
   "cell_type": "code",
   "execution_count": 114,
   "metadata": {},
   "outputs": [
    {
     "data": {
      "image/png": "[encoded data removed]",
      "text/plain": [
       "<matplotlib.figure.Figure at 0x20f416f8128>"
      ]
     },
     "metadata": {},
     "output_type": "display_data"
    }
   ],
   "source": [
    "plt.plot(year_x, score_y)\n",
    "plt.title('Scores for papers in Artificial Intelligence')\n",
    "plt.xlabel('Year')\n",
    "plt.ylabel('Our Metric Score')\n",
    "#plt.savefig('time_AI.png', dpi=300, bbox_inches='tight')\n",
    "plt.show()"
   ]
  },
  {
   "cell_type": "code",
   "execution_count": 125,
   "metadata": {},
   "outputs": [
    {
     "data": {
      "image/png": "[encoded data removed]",
      "text/plain": [
       "<matplotlib.figure.Figure at 0x20f42911240>"
      ]
     },
     "metadata": {},
     "output_type": "display_data"
    }
   ],
   "source": [
    "df3 = df1[df1['topic'] == 2]\n",
    "paper_index = []\n",
    "for index, row in df3.iterrows():\n",
    "    paper_index.append(index)\n",
    "\n",
    "year = df1['year']\n",
    "paper_ids = df1['id']\n",
    "dic_paper_year = {}\n",
    "for i in range(len(paper_index)):\n",
    "    dic_paper_year[paper_index[i]] = year[paper_index[i]]\n",
    "\n",
    "dic_paper_outcount = {}\n",
    "for i in range(len(paper_index)):\n",
    "    dic_paper_outcount[paper_index[i]] = out_count[paper_index[i]]\n",
    "    \n",
    "dic_year_score = {}\n",
    "for i in range(min_year, max_year+1):\n",
    "    dic_year_score[i] = 0\n",
    "    \n",
    "dic_year_count = {}\n",
    "for i in range(min_year, max_year+1):\n",
    "    dic_year_count[i] = 0\n",
    "    \n",
    "for i in range(len(paper_index)):\n",
    "    paper_inlinks = inlinks[paper_index[i]]\n",
    "    #print(paper_inlinks)\n",
    "    for j in paper_inlinks:\n",
    "        try:\n",
    "            dic_year_count[dic_paper_year[j]] = dic_year_count[dic_paper_year[j]] + 1\n",
    "            dic_year_score[dic_paper_year[j]] = dic_year_score[dic_paper_year[j]] + new_rank2[paper_index[j]]/dic_paper_outcount[j]\n",
    "        except:\n",
    "            continue\n",
    "\n",
    "year_x = []\n",
    "score_y = []\n",
    "temp = 0\n",
    "for i in range(min_year, max_year+1):\n",
    "    if dic_year_count[i] != 0:\n",
    "        year_x.append(i)\n",
    "        temp = temp + dic_year_score[i]/dic_year_count[i]\n",
    "        score_y.append(temp)\n",
    "\n",
    "plt.plot(year_x, score_y)\n",
    "plt.title('Scores for papers in Computer Networks')\n",
    "plt.xlabel('Year')\n",
    "plt.ylabel('Our Metric Score')\n",
    "plt.savefig('time_CN.png', dpi=300, bbox_inches='tight')\n",
    "plt.show()"
   ]
  },
  {
   "cell_type": "code",
   "execution_count": 4,
   "metadata": {
    "collapsed": true
   },
   "outputs": [],
   "source": [
    "topic_df = pd.read_csv('with_ranks_topic.csv', sep='\\t', encoding='utf-8')"
   ]
  },
  {
   "cell_type": "code",
   "execution_count": 43,
   "metadata": {},
   "outputs": [
    {
     "data": {
      "text/html": [
       "<div>\n",
       "<style>\n",
       "    .dataframe thead tr:only-child th {\n",
       "        text-align: right;\n",
       "    }\n",
       "\n",
       "    .dataframe thead th {\n",
       "        text-align: left;\n",
       "    }\n",
       "\n",
       "    .dataframe tbody tr th {\n",
       "        vertical-align: top;\n",
       "    }\n",
       "</style>\n",
       "<table border=\"1\" class=\"dataframe\">\n",
       "  <thead>\n",
       "    <tr style=\"text-align: right;\">\n",
       "      <th></th>\n",
       "      <th>Unnamed: 0</th>\n",
       "      <th>Author</th>\n",
       "      <th>Cum_Page_Rank</th>\n",
       "      <th>num_citation</th>\n",
       "      <th>centrality</th>\n",
       "      <th>hindex</th>\n",
       "      <th>Metric_Rank</th>\n",
       "      <th>Citation_Rank</th>\n",
       "      <th>Centrality_Rank</th>\n",
       "      <th>hindex_Rank</th>\n",
       "      <th>Topic</th>\n",
       "    </tr>\n",
       "  </thead>\n",
       "  <tbody>\n",
       "    <tr>\n",
       "      <th>0</th>\n",
       "      <td>12</td>\n",
       "      <td>Mohammed Nasser</td>\n",
       "      <td>2.484419e-07</td>\n",
       "      <td>122</td>\n",
       "      <td>0.000009</td>\n",
       "      <td>4</td>\n",
       "      <td>449727</td>\n",
       "      <td>363490</td>\n",
       "      <td>374027.0</td>\n",
       "      <td>269846</td>\n",
       "      <td>0</td>\n",
       "    </tr>\n",
       "    <tr>\n",
       "      <th>1</th>\n",
       "      <td>17</td>\n",
       "      <td>Sun-Young Kim</td>\n",
       "      <td>5.347252e-08</td>\n",
       "      <td>0</td>\n",
       "      <td>0.000000</td>\n",
       "      <td>0</td>\n",
       "      <td>1043609</td>\n",
       "      <td>1593081</td>\n",
       "      <td>973324.5</td>\n",
       "      <td>1593081</td>\n",
       "      <td>0</td>\n",
       "    </tr>\n",
       "    <tr>\n",
       "      <th>2</th>\n",
       "      <td>27</td>\n",
       "      <td>Guzin Ulutas</td>\n",
       "      <td>8.838949e-07</td>\n",
       "      <td>284</td>\n",
       "      <td>0.000007</td>\n",
       "      <td>7</td>\n",
       "      <td>176233</td>\n",
       "      <td>190043</td>\n",
       "      <td>424886.5</td>\n",
       "      <td>144746</td>\n",
       "      <td>0</td>\n",
       "    </tr>\n",
       "    <tr>\n",
       "      <th>3</th>\n",
       "      <td>28</td>\n",
       "      <td>Mustafa Ulutas</td>\n",
       "      <td>1.134947e-06</td>\n",
       "      <td>379</td>\n",
       "      <td>0.000014</td>\n",
       "      <td>8</td>\n",
       "      <td>143183</td>\n",
       "      <td>148838</td>\n",
       "      <td>304072.5</td>\n",
       "      <td>123186</td>\n",
       "      <td>0</td>\n",
       "    </tr>\n",
       "    <tr>\n",
       "      <th>4</th>\n",
       "      <td>29</td>\n",
       "      <td>Vasif V. Nabiyev</td>\n",
       "      <td>1.506929e-06</td>\n",
       "      <td>449</td>\n",
       "      <td>0.000017</td>\n",
       "      <td>10</td>\n",
       "      <td>111847</td>\n",
       "      <td>128183</td>\n",
       "      <td>271163.5</td>\n",
       "      <td>93057</td>\n",
       "      <td>0</td>\n",
       "    </tr>\n",
       "  </tbody>\n",
       "</table>\n",
       "</div>"
      ],
      "text/plain": [
       "   Unnamed: 0            Author  Cum_Page_Rank  num_citation  centrality  \\\n",
       "0          12   Mohammed Nasser   2.484419e-07           122    0.000009   \n",
       "1          17     Sun-Young Kim   5.347252e-08             0    0.000000   \n",
       "2          27      Guzin Ulutas   8.838949e-07           284    0.000007   \n",
       "3          28    Mustafa Ulutas   1.134947e-06           379    0.000014   \n",
       "4          29  Vasif V. Nabiyev   1.506929e-06           449    0.000017   \n",
       "\n",
       "   hindex  Metric_Rank  Citation_Rank  Centrality_Rank  hindex_Rank  Topic  \n",
       "0       4       449727         363490         374027.0       269846      0  \n",
       "1       0      1043609        1593081         973324.5      1593081      0  \n",
       "2       7       176233         190043         424886.5       144746      0  \n",
       "3       8       143183         148838         304072.5       123186      0  \n",
       "4      10       111847         128183         271163.5        93057      0  "
      ]
     },
     "execution_count": 43,
     "metadata": {},
     "output_type": "execute_result"
    }
   ],
   "source": [
    "topic_0.head()"
   ]
  },
  {
   "cell_type": "code",
   "execution_count": 34,
   "metadata": {
    "collapsed": true
   },
   "outputs": [],
   "source": [
    "topic_0 = topic_df.loc[topic_df['Topic'] == 0]"
   ]
  },
  {
   "cell_type": "code",
   "execution_count": 36,
   "metadata": {
    "collapsed": true
   },
   "outputs": [],
   "source": [
    "topic_0 = topic_0.reset_index(drop=True)"
   ]
  },
  {
   "cell_type": "code",
   "execution_count": 39,
   "metadata": {
    "collapsed": true
   },
   "outputs": [],
   "source": [
    "citations = list(topic_0['num_citation'])\n",
    "citations.sort(reverse=True)"
   ]
  },
  {
   "cell_type": "code",
   "execution_count": 51,
   "metadata": {},
   "outputs": [
    {
     "data": {
      "text/plain": [
       "313313"
      ]
     },
     "execution_count": 51,
     "metadata": {},
     "output_type": "execute_result"
    }
   ],
   "source": [
    "len(topic_0['num_citation'])"
   ]
  },
  {
   "cell_type": "code",
   "execution_count": null,
   "metadata": {
    "collapsed": true
   },
   "outputs": [],
   "source": [
    "local_rank_0 = []\n",
    "for index, row in topic_0.iteritems():\n",
    "    local_rank_0.append(citations.index(row['num_citation']))"
   ]
  },
  {
   "cell_type": "code",
   "execution_count": 19,
   "metadata": {
    "collapsed": true
   },
   "outputs": [],
   "source": [
    "y_count = topic_df.Topic.value_counts(sort=False)\n",
    "x_1 = [0,1,2,3,4,5,6,7] "
   ]
  },
  {
   "cell_type": "code",
   "execution_count": 52,
   "metadata": {},
   "outputs": [
    {
     "data": {
      "text/plain": [
       "0    313313\n",
       "1    138919\n",
       "2    175695\n",
       "3    169266\n",
       "4    233771\n",
       "5    471712\n",
       "6    133461\n",
       "7    130410\n",
       "Name: Topic, dtype: int64"
      ]
     },
     "execution_count": 52,
     "metadata": {},
     "output_type": "execute_result"
    }
   ],
   "source": [
    "y_count"
   ]
  },
  {
   "cell_type": "code",
   "execution_count": 21,
   "metadata": {},
   "outputs": [
    {
     "data": {
      "image/png": "[encoded data removed]",
      "text/plain": [
       "<matplotlib.figure.Figure at 0x20e3a5ac780>"
      ]
     },
     "metadata": {},
     "output_type": "display_data"
    }
   ],
   "source": [
    "fig=plt.figure(figsize=(5, 4), dpi= 100, facecolor='w', edgecolor='k')\n",
    "ax = sns.boxplot(x=\"Topic\", y=\"Metric_Rank\", data=topic_df)\n",
    "#plt.savefig('mpr_internal_h-index.png',bbox_inches='tight')\n",
    "plt.show()"
   ]
  },
  {
   "cell_type": "code",
   "execution_count": 28,
   "metadata": {},
   "outputs": [
    {
     "data": {
      "image/png": "[encoded data removed]",
      "text/plain": [
       "<matplotlib.figure.Figure at 0x20e4d70a8d0>"
      ]
     },
     "metadata": {},
     "output_type": "display_data"
    }
   ],
   "source": [
    "fig=plt.figure(figsize=(5, 4), dpi= 100, facecolor='w', edgecolor='k')\n",
    "ax = sns.boxplot(x=\"Topic\", y=\"Citation_Rank\", data=topic_df)\n",
    "#plt.savefig('mpr_internal_h-index.png',bbox_inches='tight')\n",
    "plt.show()"
   ]
  },
  {
   "cell_type": "code",
   "execution_count": 30,
   "metadata": {},
   "outputs": [
    {
     "data": {
      "image/png": "[encoded data removed]",
      "text/plain": [
       "<matplotlib.figure.Figure at 0x20e02f00a90>"
      ]
     },
     "metadata": {},
     "output_type": "display_data"
    }
   ],
   "source": [
    "fig=plt.figure(figsize=(5, 4), dpi= 100, facecolor='w', edgecolor='k')\n",
    "ax = sns.boxplot(x=\"Topic\", y=\"Centrality_Rank\", data=topic_df)\n",
    "#plt.savefig('mpr_internal_h-index.png',bbox_inches='tight')\n",
    "plt.show()"
   ]
  },
  {
   "cell_type": "code",
   "execution_count": 31,
   "metadata": {},
   "outputs": [
    {
     "data": {
      "image/png": "[encoded data removed]",
      "text/plain": [
       "<matplotlib.figure.Figure at 0x20e02c00cc0>"
      ]
     },
     "metadata": {},
     "output_type": "display_data"
    }
   ],
   "source": [
    "fig=plt.figure(figsize=(5, 4), dpi= 100, facecolor='w', edgecolor='k')\n",
    "ax = sns.boxplot(x=\"Topic\", y=\"hindex_Rank\", data=topic_df)\n",
    "#plt.savefig('mpr_internal_h-index.png',bbox_inches='tight')\n",
    "plt.show()"
   ]
  },
  {
   "cell_type": "code",
   "execution_count": 33,
   "metadata": {},
   "outputs": [
    {
     "data": {
      "image/png": "[encoded data removed]",
      "text/plain": [
       "<matplotlib.figure.Figure at 0x20e03fad630>"
      ]
     },
     "metadata": {},
     "output_type": "display_data"
    }
   ],
   "source": [
    "fig=plt.figure(figsize=(5, 4), dpi= 100, facecolor='w', edgecolor='k')\n",
    "ax = sns.barplot(x=\"Topic\", y=\"Cum_Page_Rank\", data=topic_df)\n",
    "#plt.savefig('mpr_internal_h-index.png',bbox_inches='tight')\n",
    "plt.show()"
   ]
  },
  {
   "cell_type": "code",
   "execution_count": null,
   "metadata": {
    "collapsed": true
   },
   "outputs": [],
   "source": [
    "aa=pd.qcut(list(topic_df['hindex']), 40,duplicates=\"drop\")\n",
    "values = [i for i in aa.value_counts()]\n",
    "cats = list(aa.categories)\n",
    "ncats = []\n",
    "for i in range(len(cats)):\n",
    "    ncats.append(\"({}, {}]\".format(float(cats[i].left),float(cats[i].right)))\n",
    "paper_buckets = pd.DataFrame({'range':ncats,'count':values})\n",
    "fig=plt.figure(figsize=(12, 2), dpi= 100, facecolor='w', edgecolor='k')\n",
    "# plt.xlabel('Normalized Indices')\n",
    "# plt.ylabel('Authors')\n",
    "plt.title('Count of citations of papers')\n",
    "ax = sns.barplot(x=\"Metric_Rank\", y=\"hindex\", data=topic_df,palette=\"Blues_d\")\n",
    "#plt.savefig('citation_count.png',bbox_inches='tight')"
   ]
  },
  {
   "cell_type": "markdown",
   "metadata": {},
   "source": [
    "### Reach Function"
   ]
  },
  {
   "cell_type": "code",
   "execution_count": null,
   "metadata": {
    "collapsed": true
   },
   "outputs": [],
   "source": [
    "reach = {}\n",
    "reach_avg = {}\n",
    "i=0\n",
    "for idx,row in df1.iterrows():\n",
    "    max_reach = 0\n",
    "    domains = []\n",
    "    try:\n",
    "        for k in inlinks[row['id']]:\n",
    "            domains.append(papers_topic[k])\n",
    "        current_reach = len(dict(Counter(domains)))\n",
    "        for auth in row['authors']:\n",
    "            if auth in reach:\n",
    "                if reach[auth] < current_reach:\n",
    "                    reach[auth] = current_reach\n",
    "            else:\n",
    "                reach[auth] = current_reach\n",
    "            if auth in reach_avg:\n",
    "                reach_avg[auth].append(current_reach)\n",
    "            else:\n",
    "                reach_avg[auth] = [current_reach]\n",
    "        i += 1\n",
    "        if i%50000 == 0:\n",
    "            print i\n",
    "    except Exception as e:\n",
    "        pass"
   ]
  },
  {
   "cell_type": "code",
   "execution_count": null,
   "metadata": {
    "collapsed": true
   },
   "outputs": [],
   "source": [
    "avg_reach = {}\n",
    "for i in reach_avg:\n",
    "    avg_reach[i] = [reach[i],int(sum(reach_avg[i])/len(reach_avg[i]))]"
   ]
  },
  {
   "cell_type": "code",
   "execution_count": null,
   "metadata": {
    "collapsed": true
   },
   "outputs": [],
   "source": [
    "#edge list of authors for centrality measures calculation\n",
    "paper_authors = {}\n",
    "for idx,row in df1.iterrows():\n",
    "    paper_authors[row['id']] = row['authors']"
   ]
  },
  {
   "cell_type": "code",
   "execution_count": null,
   "metadata": {
    "collapsed": true
   },
   "outputs": [],
   "source": [
    "edge_list = []\n",
    "for idx,row in df1.iterrows():\n",
    "    authors_b = []\n",
    "    for ref in row['references']:\n",
    "        if ref in paper_authors:\n",
    "            authors_b += paper_authors[ref]\n",
    "    if len(authors_b) > 0:\n",
    "        for auth in row['authors']:\n",
    "            for auth2 in authors_b:\n",
    "                edge_list.append([auth,auth2])"
   ]
  },
  {
   "cell_type": "markdown",
   "metadata": {},
   "source": [
    "### Plots"
   ]
  },
  {
   "cell_type": "code",
   "execution_count": null,
   "metadata": {
    "collapsed": true
   },
   "outputs": [],
   "source": [
    "fig=plt.figure(figsize=(5, 4), dpi= 100, facecolor='w', edgecolor='k')\n",
    "ax = sns.barplot(x=\"Cum_Page_Rank\", y=\"Author\", hue=\"hindex\", data=fd.sort_values(by=['Metric_Rank']).head(10))\n",
    "ax.set(xlabel='Scaled Metric Rank', ylabel='Author')\n",
    "plt.savefig('mpr_internal_h-index.png',bbox_inches='tight')"
   ]
  },
  {
   "cell_type": "code",
   "execution_count": null,
   "metadata": {
    "collapsed": true
   },
   "outputs": [],
   "source": [
    "aa=pd.qcut(aindexes.values(), 40,duplicates=\"drop\")\n",
    "values = [i for i in aa.value_counts()]\n",
    "cats = list(aa.categories)\n",
    "ncats = []\n",
    "for i in range(len(cats)):\n",
    "    ncats.append(\"{}\".format(float(cats[i].right)))\n",
    "paper_buckets = pd.DataFrame({'range':ncats,'count':values})\n",
    "fig=plt.figure(figsize=(12, 2), dpi= 100, facecolor='w', edgecolor='k')\n",
    "# plt.xlabel('Normalized Indices')\n",
    "# plt.ylabel('Authors')\n",
    "plt.title('Count of citations of papers separated into buckets')\n",
    "ax = sns.barplot(x=\"range\", y=\"count\", data=paper_buckets,palette=\"Blues_d\")"
   ]
  },
  {
   "cell_type": "code",
   "execution_count": null,
   "metadata": {
    "collapsed": true
   },
   "outputs": [],
   "source": [
    "x1 = citations['name']\n",
    "y1 = citations['h_index']\n",
    "y1norm = [float(i)/max(y1) for i in y1]\n",
    "x2 = x1\n",
    "y2 = citations['i10']\n",
    "y2norm = [float(i)/max(y2) for i in y2]\n",
    "fig=plt.figure(figsize=(4, 6), dpi= 100, facecolor='w', edgecolor='k')\n",
    "plt.plot(y1norm, x1,'b', label = 'actual H index')\n",
    "plt.plot(y2norm, x2,'g', label = 'actual i10 index')\n",
    "plt.legend(loc='best')\n",
    "plt.xlabel('Normalized Indices')\n",
    "plt.ylabel('Authors')\n",
    "plt.title('Authors ranked from top to bottom based on total number of citations of the author')\n",
    "\n",
    "plt.savefig('citations.png',bbox_inches='tight')"
   ]
  },
  {
   "cell_type": "code",
   "execution_count": null,
   "metadata": {
    "collapsed": true
   },
   "outputs": [],
   "source": [
    "x1 = num_papers['name']\n",
    "y1 = num_papers['h_index']\n",
    "y1norm = [float(i)/max(y1) for i in y1]\n",
    "x2 = x1\n",
    "y2 = num_papers['i10']\n",
    "y2norm = [float(i)/max(y2) for i in y2]\n",
    "fig=plt.figure(figsize=(4, 14), dpi= 100, facecolor='w', edgecolor='k')\n",
    "\n",
    "plt.plot(y1norm, x1,'b', label = 'actual H index')\n",
    "plt.plot(y2norm, x2,'g', label = 'actual i10 index')\n",
    "plt.legend(loc='best')\n",
    "plt.xlabel('Index')\n",
    "plt.ylabel('Authors')\n",
    "plt.title('Authors ranked from top to bottom based on total number of papers published')\n",
    "plt.savefig('num_papers.png',bbox_inches='tight',figsize=(8, 20), dpi= 400, facecolor='w', edgecolor='k')"
   ]
  },
  {
   "cell_type": "code",
   "execution_count": null,
   "metadata": {
    "collapsed": true
   },
   "outputs": [],
   "source": [
    "x1 = internal_h['name']\n",
    "y1 = internal_h['h_index']\n",
    "y1norm = [float(i)/max(y1) for i in y1]\n",
    "x2 = x1\n",
    "y2 = internal_h['i10']\n",
    "y2norm = [float(i)/max(y2) for i in y2]\n",
    "fig=plt.figure(figsize=(4, 14), dpi= 100, facecolor='w', edgecolor='k')\n",
    "plt.plot(y1norm, x1,'b', label = 'actual H index')\n",
    "plt.plot(y2norm, x2,'g', label = 'actual i10 index')\n",
    "plt.legend(loc='best')\n",
    "plt.xlabel('Normalized Indices')\n",
    "plt.ylabel('Authors')\n",
    "plt.title('Authors ranked from top to bottom based on internal h-index calculation')\n",
    "plt.savefig('h-index.png',bbox_inches='tight')"
   ]
  },
  {
   "cell_type": "code",
   "execution_count": null,
   "metadata": {
    "collapsed": true
   },
   "outputs": [],
   "source": [
    "x1 = internal_i10['name']\n",
    "y1 = internal_i10['h_index']\n",
    "y1norm = [float(i)/max(y1) for i in y1]\n",
    "x2 = x1\n",
    "y2 = internal_i10['i10']\n",
    "y2norm = [float(i)/max(y2) for i in y2]\n",
    "fig=plt.figure(figsize=(4, 11), dpi= 100, facecolor='w', edgecolor='k')\n",
    "plt.plot(y1norm, x1,'b', label = 'actual H index')\n",
    "plt.plot(y2norm, x2,'g', label = 'actual i10 index')\n",
    "plt.legend(loc='best')\n",
    "plt.xlabel('Normalized Indices')\n",
    "plt.ylabel('Authors')\n",
    "plt.title('Authors ranked from top to bottom based on internal i10-index calculation')\n",
    "plt.savefig('i10-index.png',bbox_inches='tight')"
   ]
  },
  {
   "cell_type": "code",
   "execution_count": null,
   "metadata": {
    "collapsed": true
   },
   "outputs": [],
   "source": [
    "x1 = internal_a['name']\n",
    "y1 = internal_a['h_index']\n",
    "y1norm = [float(i)/max(y1) for i in y1]\n",
    "x2 = x1\n",
    "y2 = internal_a['i10']\n",
    "y2norm = [float(i)/max(y2) for i in y2]\n",
    "fig=plt.figure(figsize=(4, 8), dpi= 100, facecolor='w', edgecolor='k')\n",
    "plt.plot(y1norm, x1,'b', label = 'actual H index')\n",
    "plt.plot(y2norm, x2,'g', label = 'actual i10 index')\n",
    "plt.legend(loc='best')\n",
    "plt.xlabel('Normalized indices')\n",
    "plt.ylabel('Authors')\n",
    "plt.title('Authors ranked from top to bottom based on internal a-index calculation')\n",
    "plt.savefig('a-index.png',bbox_inches='tight')"
   ]
  },
  {
   "cell_type": "code",
   "execution_count": null,
   "metadata": {
    "collapsed": true
   },
   "outputs": [],
   "source": [
    "x1 = mpr['name']\n",
    "y1 = mpr['h_index']\n",
    "y1norm = [float(i)/max(y1) for i in y1]\n",
    "x2 = x1\n",
    "y2 = mpr['i10']\n",
    "y2norm = [float(i)/max(y2) for i in y2]\n",
    "fig=plt.figure(figsize=(4, 9), dpi= 100, facecolor='w', edgecolor='k')\n",
    "plt.plot(y1norm, x1,'b', label = 'actual H index')\n",
    "plt.plot(y2norm, x2,'g', label = 'actual i10 index')\n",
    "plt.legend(loc='best')\n",
    "plt.xlabel('Normalized Indices')\n",
    "plt.ylabel('Authors')\n",
    "plt.title('Authors ranked from top to bottom based on the modified page-rank algorithm')\n",
    "plt.savefig('mpr-index.png',bbox_inches='tight')"
   ]
  },
  {
   "cell_type": "markdown",
   "metadata": {},
   "source": [
    "### Centrality Measures"
   ]
  },
  {
   "cell_type": "code",
   "execution_count": null,
   "metadata": {
    "collapsed": true
   },
   "outputs": [],
   "source": [
    "import csv\n",
    "import networkx as nx\n",
    "import numpy as np\n",
    "import pandas as pd\n",
    "import matplotlib.pyplot as plt\n",
    "import math"
   ]
  },
  {
   "cell_type": "code",
   "execution_count": null,
   "metadata": {
    "collapsed": true
   },
   "outputs": [],
   "source": [
    "G=nx.DiGraph()\n",
    "P=[]\n",
    "with io.open('authors_edges.json',encoding='utf-8') as ff:\n",
    "    P=json.load(ff)\n",
    "G.add_edges_from(P)"
   ]
  },
  {
   "cell_type": "code",
   "execution_count": null,
   "metadata": {
    "collapsed": true
   },
   "outputs": [],
   "source": [
    "eigen_dict=nx.eigenvector_centrality_numpy(G)"
   ]
  },
  {
   "cell_type": "code",
   "execution_count": null,
   "metadata": {
    "collapsed": true
   },
   "outputs": [],
   "source": [
    "nx.density(G)"
   ]
  },
  {
   "cell_type": "code",
   "execution_count": null,
   "metadata": {
    "collapsed": true
   },
   "outputs": [],
   "source": [
    "nx.number_strongly_connected_components(G)"
   ]
  },
  {
   "cell_type": "code",
   "execution_count": null,
   "metadata": {
    "collapsed": true
   },
   "outputs": [],
   "source": [
    "dict_ebc=nx.edge_betweenness_centrality(G)"
   ]
  },
  {
   "cell_type": "code",
   "execution_count": null,
   "metadata": {
    "collapsed": true
   },
   "outputs": [],
   "source": [
    "nx.global_reaching_centrality(G)"
   ]
  },
  {
   "cell_type": "code",
   "execution_count": null,
   "metadata": {
    "collapsed": true
   },
   "outputs": [],
   "source": [
    "indeg=nx.in_degree_centrality(G)\n",
    "sorted(indeg.iteritems(), key=lambda (k,v): v, reverse=True)"
   ]
  },
  {
   "cell_type": "code",
   "execution_count": null,
   "metadata": {
    "collapsed": true
   },
   "outputs": [],
   "source": [
    "outdeg=nx.out_degree_centrality(G)"
   ]
  },
  {
   "cell_type": "code",
   "execution_count": null,
   "metadata": {
    "collapsed": true
   },
   "outputs": [],
   "source": [
    "betc=nx.betweenness_centrality(G)"
   ]
  },
  {
   "cell_type": "code",
   "execution_count": null,
   "metadata": {
    "collapsed": true
   },
   "outputs": [],
   "source": [
    "mydic={}\n",
    "for item in list(G):\n",
    "    mydic[item]=nx.local_reaching_centrality(G,item)"
   ]
  },
  {
   "cell_type": "code",
   "execution_count": null,
   "metadata": {
    "collapsed": true
   },
   "outputs": [],
   "source": [
    "phi = (1 + math.sqrt(5)) / 2.0  # largest eigenvalue of adj matrix\n",
    "centrality = nx.katz_centrality_numpy(G, 1/phi)\n",
    "for n, c in sorted(centrality.items()):\n",
    "    print(n, c)"
   ]
  },
  {
   "cell_type": "code",
   "execution_count": null,
   "metadata": {
    "collapsed": true
   },
   "outputs": [],
   "source": [
    "with open('katz.csv', 'wb') as csv_file:\n",
    "    writer = csv.writer(csv_file)\n",
    "    for key, value in centrality.items():\n",
    "       writer.writerow([key, value])"
   ]
  }
 ],
 "metadata": {
  "kernelspec": {
   "display_name": "Python 3",
   "language": "python",
   "name": "python3"
  },
  "language_info": {
   "codemirror_mode": {
    "name": "ipython",
    "version": 3
   },
   "file_extension": ".py",
   "mimetype": "text/x-python",
   "name": "python",
   "nbconvert_exporter": "python",
   "pygments_lexer": "ipython3",
   "version": "3.5.4"
  }
 },
 "nbformat": 4,
 "nbformat_minor": 2
}
